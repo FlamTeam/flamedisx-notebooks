{
 "cells": [
  {
   "cell_type": "markdown",
   "metadata": {},
   "source": [
    "# Model validity checks"
   ]
  },
  {
   "cell_type": "code",
   "execution_count": null,
   "metadata": {},
   "outputs": [],
   "source": [
    "%run _if_on_colab_setup_flamedisx.ipynb"
   ]
  },
  {
   "cell_type": "code",
   "execution_count": null,
   "metadata": {
    "colab": {},
    "colab_type": "code",
    "id": "N9Gc96F680yX"
   },
   "outputs": [],
   "source": [
    "import numpy as np\n",
    "import pandas as pd\n",
    "from tqdm import tqdm\n",
    "import matplotlib\n",
    "import matplotlib.pyplot as plt\n",
    "%matplotlib inline"
   ]
  },
  {
   "cell_type": "code",
   "execution_count": null,
   "metadata": {
    "colab": {},
    "colab_type": "code",
    "id": "I62vCtyY9Xqa"
   },
   "outputs": [],
   "source": [
    "from multihist import Hist1d\n",
    "\n",
    "import flamedisx\n",
    "import tensorflow as tf\n",
    "\n",
    "from flamedisx.x1t_sr0 import SR0NRSource, SR0ERSource, SR0WIMPSource\n",
    "\n",
    "SR0ERSource.do_pel_fluct = True\n",
    "\n",
    "class LowMassWIMPSource(SR0WIMPSource):\n",
    "    mw = 30  # GeV\n",
    "\n",
    "# raise errors on any warning\n",
    "import warnings\n",
    "warnings.filterwarnings(\"default\")"
   ]
  },
  {
   "cell_type": "code",
   "execution_count": null,
   "metadata": {
    "colab": {},
    "colab_type": "code",
    "id": "E19EX-3E80yj"
   },
   "outputs": [],
   "source": [
    "dsets = dict(\n",
    "    er=dict(source_class=SR0ERSource,\n",
    "            data=pd.read_csv('data_Rn220_lowenergy.csv')),\n",
    "    nr=dict(source_class=LowMassWIMPSource,\n",
    "            data=pd.read_csv('data_AmBe_lowenergy.csv')[::8]))\n",
    "\n",
    "print(len(dsets['er']['data']), \"ER events\")\n",
    "print(len(dsets['nr']['data']), \"NR events\")\n",
    "\n",
    "def std_axes():\n",
    "    plt.xlabel(\"S1 [PE]\")\n",
    "    plt.ylabel(r\"S2 [PE]\")\n",
    "    plt.xlim(0, 100)\n",
    "    plt.ylim(0, None)\n",
    "\n",
    "for dname, q in dsets.items():\n",
    "    d = q['data']\n",
    "    sc = q['source_class']\n",
    "\n",
    "    q['source'] = s = sc(d)  # batch_size\n",
    "    d = s.annotate_data(d)\n",
    "\n",
    "    # Cut at CES < 10.\n",
    "    # a cs1 cut would likely cause a bias since for some energies\n",
    "    # you'd only have some extreme events.\n",
    "    d = q['data'] = d[d['e_vis'] < 10].copy()\n",
    "\n",
    "    s.set_data(d)\n",
    "    \n",
    "    plt.scatter(d['s1'], d['s2'], s=2, c=d['drift_time']/1e3, cmap=plt.cm.jet)\n",
    "    plt.colorbar(label=\"Drift time [us]\")\n",
    "    std_axes()\n",
    "    plt.show()"
   ]
  },
  {
   "cell_type": "markdown",
   "metadata": {
    "colab_type": "text",
    "id": "ZO-PZ5rU80yu"
   },
   "source": [
    "# Compute differential rate"
   ]
  },
  {
   "cell_type": "code",
   "execution_count": null,
   "metadata": {
    "colab": {},
    "colab_type": "code",
    "id": "b7ZI0mGH80yx"
   },
   "outputs": [],
   "source": [
    "for dname, q in dsets.items():\n",
    "    d = q['data']\n",
    "    if 'likelihood' not in d.columns:\n",
    "        d['likelihood'] = q['source'].batched_differential_rate()\n",
    "\n",
    "    with warnings.catch_warnings():\n",
    "        warnings.simplefilter(\"ignore\")\n",
    "        d['ll'] = np.log10(d['likelihood'])\n",
    "        \n",
    "    plt.scatter(d['e_vis'], \n",
    "                d['electron_produced_mle'],\n",
    "                c=d['ll'], vmin=-7,\n",
    "                cmap=plt.cm.jet, s=2)\n",
    "    plt.colorbar(label=r'$\\log_{10} \\mu \\times PDF$')\n",
    "\n",
    "    plt.xlabel(r\"$E_\\mathrm{vis}$ [keV]\")\n",
    "    plt.ylabel(\"Electrons produced (est.)\")\n",
    "    plt.xlim(0, 10)\n",
    "    plt.ylim(0, None)\n",
    "    plt.show()"
   ]
  },
  {
   "cell_type": "markdown",
   "metadata": {
    "colab_type": "text",
    "id": "WNVBCaHM80y5"
   },
   "source": [
    "## Compare data with simulation"
   ]
  },
  {
   "cell_type": "code",
   "execution_count": null,
   "metadata": {
    "colab": {},
    "colab_type": "code",
    "id": "8BEFzuXL80y7"
   },
   "outputs": [],
   "source": [
    "for dname, q in dsets.items():\n",
    "    s = q['source']\n",
    "    d = s.simulate(len(q['data']))\n",
    "    \n",
    "    d = d[d['e_vis'] < 10]\n",
    "    q['data_sim'] = d\n",
    "    \n",
    "    for d, label in ([q['data'], 'Data'], [q['data_sim'], 'Simulation']):\n",
    "        plt.scatter(d['photon_produced_mle'], d['electron_produced_mle'], \n",
    "                    label=label, s=2)\n",
    "        \n",
    "    plt.xlabel(\"Photons produced (est.)\")\n",
    "    plt.ylabel(\"Electrons produced (est.)\")\n",
    "    plt.legend(loc='upper left', markerscale=5)\n",
    "\n",
    "    plt.title(dname)\n",
    "    plt.xlim(0, None)\n",
    "    plt.ylim(0, None)\n",
    "    plt.show()"
   ]
  },
  {
   "cell_type": "markdown",
   "metadata": {
    "colab_type": "text",
    "id": "LmirRCVE80zD"
   },
   "source": [
    "The agreement is pretty good. Not perfect -- but that's not the point:\n",
    "  * For ER, I didn't want to spend hours implementing the fine details of the SR0 ER model (such as the electron lifetime time distribution).\n",
    "  * For NR, I don't know the AmBe energy spectrum, so I just compare with a high-mass WIMP. The agreement isn't great, but at least the NR band seems to be in approximately the right place, which is OK for now.\n",
    "\n",
    "Though it's not much of a check (since it doens't involve the likelihood at all), we can also check whether the estimated and actual produced number of photons/electrons match:"
   ]
  },
  {
   "cell_type": "code",
   "execution_count": null,
   "metadata": {},
   "outputs": [],
   "source": [
    "for qt in ['photon', 'electron']:\n",
    "    for dname, q in dsets.items():\n",
    "        d = q['data_sim']\n",
    "\n",
    "        plt.scatter(d[f'{qt}_produced'], d[f'{qt}_produced_mle'], s=2, label=dname)\n",
    "        plt.xlabel(f\"{qt.capitalize()}s produced\")\n",
    "        plt.ylabel(f\"{qt.capitalize()}s produced, est.\")\n",
    "\n",
    "    plt.legend(markerscale=5)\n",
    "    plt.xlim(0, None)\n",
    "    plt.ylim(0, None)\n",
    "    plt.gca().set_aspect('equal')\n",
    "    plt.show()"
   ]
  },
  {
   "cell_type": "markdown",
   "metadata": {
    "colab_type": "text",
    "id": "jG1uB4m380zM"
   },
   "source": [
    "and whether the min-max bounds are reasonable:"
   ]
  },
  {
   "cell_type": "code",
   "execution_count": null,
   "metadata": {},
   "outputs": [],
   "source": [
    "for dname, q in dsets.items():\n",
    "    for kind in ('produced', 'detected'):\n",
    "        for qt in ['photon', 'electron']:\n",
    "            d = q['data_sim'].copy()\n",
    "            key = qt + '_' + kind\n",
    "            d = d.sort_values(by=[key + '_mle',\n",
    "                                  key + '_min'])\n",
    "\n",
    "            mi, ma, mle, real = d[[key + x \n",
    "                                   for x in ('_min', '_max', '_mle', '')]].values.T\n",
    "            x = np.arange(len(d))\n",
    "            plt.fill_between(x, ma, mi, \n",
    "                             step='mid', color='b', alpha=0.2, linewidth=0)\n",
    "            plt.plot(x, mle, c='b', linestyle='steps-mid')\n",
    "            \n",
    "            fail = (real < mi) | (real > ma)\n",
    "            plt.scatter(x[fail], real[fail], c='r', s=2)\n",
    "            plt.scatter(x[~fail], real[~fail], s=2)\n",
    "\n",
    "            plt.title(dname + ': ' + key)\n",
    "            plt.xlabel(\"Event number\")\n",
    "            plt.ylabel(\"N\")\n",
    "            plt.show()"
   ]
  },
  {
   "cell_type": "markdown",
   "metadata": {
    "colab_type": "text",
    "id": "cyoyWFGq80zV"
   },
   "source": [
    "# Compare with MC likelihood"
   ]
  },
  {
   "cell_type": "markdown",
   "metadata": {
    "colab_type": "text",
    "id": "K3WtJjUB80za"
   },
   "source": [
    "For this we have to simulate events at *one* position, so the likelihood becomes two-dimensional. Then we can build a histogram using the simulation, and convert it to a PDF estimate."
   ]
  },
  {
   "cell_type": "code",
   "execution_count": null,
   "metadata": {},
   "outputs": [],
   "source": [
    "fix_truth = dict(x=0, y=0, z=-50)\n",
    "#assert 'drift_time' not in fix_truth\n",
    "#fix_truth['z'] = -95"
   ]
  },
  {
   "cell_type": "code",
   "execution_count": null,
   "metadata": {
    "colab": {},
    "colab_type": "code",
    "id": "Wj_7C2-Q80zd"
   },
   "outputs": [],
   "source": [
    "import flamedisx\n",
    "from tqdm import tqdm\n",
    "from multihist import Histdd\n",
    "\n",
    "n_trials = int(1e5)\n",
    "n_batches = 100\n",
    "evt_i = 0\n",
    "\n",
    "keys_to_fix = ['x', 'y', 'z', 'event_time']\n",
    "single_event = dict()\n",
    "\n",
    "for dname, q in dsets.items():\n",
    "    # single_event[dname] = dsets[dname]['data'].iloc[evt_i]\n",
    "    #del q['mh']\n",
    "    if 'mh' in q:\n",
    "        mh = q['mh']\n",
    "    else:\n",
    "        mh = Histdd(bins=(\n",
    "            np.geomspace(2, 70, 70),\n",
    "            np.geomspace(200, 6000, 70)))\n",
    "\n",
    "        for _ in tqdm(range(n_batches)):\n",
    "            _d = q['source'].simulate(n_trials,\n",
    "                                      fix_truth=fix_truth)\n",
    "            mh.add(_d['s1'], _d['s2'])\n",
    "\n",
    "        # Convert to PDF\n",
    "        mh /= mh.bin_volumes() * n_trials * n_batches\n",
    "        \n",
    "        # Multiply by total expected event rate\n",
    "        # (from the source, i.e. before correcting for efficiencies)\n",
    "        # The efficiency is correctly taken into account because we divide by \n",
    "        # the number of trials above, not the number of observed events.\n",
    "        if dsets[dname]['source_class'] == SR0WIMPSource:\n",
    "            mh *= q['source'].energy_hist.slice(single_event[dname]['t']).n\n",
    "        else:\n",
    "            mh *= q['source'].mu_before_efficiencies()\n",
    "        \n",
    "        q['mh'] = mh\n",
    "        \n",
    "    mh.plot(cblabel=r'$\\mu \\times \\mathrm{PDF}$')\n",
    "    plt.xlabel(\"S1 [PE]\")\n",
    "    plt.ylabel(\"S2 [PE]\")\n",
    "    plt.yscale('log')\n",
    "    plt.xscale('log')\n",
    "    plt.show()\n"
   ]
  },
  {
   "cell_type": "code",
   "execution_count": null,
   "metadata": {},
   "outputs": [],
   "source": [
    "f, axes = plt.subplots(2, 2, figsize=(14, 12))\n",
    "\n",
    "for data_i, (dname, q) in enumerate(dsets.items()):\n",
    "    if 'simd' in q:\n",
    "        d = q['simd']\n",
    "    else:\n",
    "        d = q['source'].simulate(int(2e3), fix_truth=fix_truth)\n",
    "        # Avoid extrapolation in MC likelihood\n",
    "        mask = (\n",
    "           (2 < d['s1']) & (d['s1'] < 70)\n",
    "           & (200 < d['s2']) & (d['s2'] < 6000))\n",
    "        print(f\"{dname}: throwing out {100 * (~mask).sum()/len(mask):.2f}% of sim events\")\n",
    "        q['simd'] = d\n",
    "\n",
    "        # Note the higher max_sigma here to ensure good results\n",
    "        for _dn, _q in dsets.items():\n",
    "            d[f'dr_{_dn}_mh'] = _q['mh'].lookup(d['s1'], d['s2'])\n",
    "            d[f'dr_{_dn}_full'] = _q['source_class'](d, max_sigma=5).batched_differential_rate()\n",
    "\n",
    "    for lh_i, (_dn, _q) in enumerate(dsets.items()):\n",
    "        plt.sca(axes[data_i, lh_i])\n",
    "        \n",
    "        x, y = np.log10(d[f'dr_{_dn}_mh'].values), np.log10(d[f'dr_{_dn}_full'].values)\n",
    "        plt.scatter(\n",
    "            x, y,\n",
    "            c=d['energy'], cmap=plt.cm.jet, vmax=10,\n",
    "            s=0.2)\n",
    "        xf = x[np.isfinite(x)]\n",
    "        ma, mi = xf.max() + 0.2, xf.min() - 0.2\n",
    "        plt.plot([mi, ma], [mi, ma], c='k', alpha=0.3, label='Y = X')\n",
    "        plt.legend(loc='best', frameon=False)\n",
    "        plt.xlim(mi, ma)\n",
    "        plt.ylim(mi, ma)\n",
    "    \n",
    "        plt.colorbar(label='Recoil energy [keV]', extend='max')\n",
    "        plt.xlabel(\"Log10 MC diff.rate\")\n",
    "        plt.ylabel(\"Log10 Flamedisx diff.rate\")\n",
    "        plt.gca().set_aspect('equal')\n",
    "        plt.title(f\"{dname.upper()} data, {_dn.upper()} model\")\n",
    "\n",
    "plt.savefig(f\"{dname}data_{_dn}model.png\", bbox_inches='tight')\n",
    "plt.show()"
   ]
  },
  {
   "cell_type": "code",
   "execution_count": null,
   "metadata": {
    "colab": {},
    "colab_type": "code",
    "id": "Ns8RoTOw80zs"
   },
   "outputs": [],
   "source": [
    "for dname, q in dsets.items():\n",
    "    d = q['simd']\n",
    "    \n",
    "    plt.scatter(d['e_vis'], \n",
    "                d['electron_produced_mle'],\n",
    "                c=np.log10(d[f'dr_{dname}_full']), vmin=-7,\n",
    "                cmap=plt.cm.jet, s=2)\n",
    "    plt.colorbar(label=r'$\\log_{10}$ Likelihood')\n",
    "\n",
    "    plt.xlabel(r\"$E_\\mathrm{vis}$ [keV]\")\n",
    "    plt.ylabel(\"Electrons produced (est.)\")\n",
    "    plt.xlim(0, 10)\n",
    "    plt.ylim(0, None)\n",
    "    plt.title(dname)\n",
    "    plt.show()"
   ]
  },
  {
   "cell_type": "code",
   "execution_count": null,
   "metadata": {
    "colab": {},
    "colab_type": "code",
    "id": "WH4Zfpgz80z1"
   },
   "outputs": [],
   "source": [
    "for dname, q in dsets.items():\n",
    "    d = q['simd']\n",
    "\n",
    "    lmax = d[f'dr_{dname}_full'].max()\n",
    "    f = 1000\n",
    "    \n",
    "    (q['mh'] * f).plot(cmap=plt.cm.Greys, vmax=lmax * f, \n",
    "                       cblabel='PDF (MC) x %d' % f)\n",
    "    \n",
    "    plt.scatter(d['s1'], d['s2'], s=0.5, c=f * d[f'dr_{dname}_full'], \n",
    "                cmap=plt.cm.jet, vmax=lmax * f)\n",
    "    plt.colorbar(label='PDF (full) x %d' % f)\n",
    "    plt.xlabel(\"S1 [PE]\")\n",
    "    plt.ylim(0, None if dname == 'er' else 3000)\n",
    "    plt.xlim(0, None if dname == 'er' else 40)\n",
    "    plt.ylabel(\"S2 [PE]\")\n",
    "    plt.show()"
   ]
  },
  {
   "cell_type": "code",
   "execution_count": null,
   "metadata": {},
   "outputs": [],
   "source": []
  }
 ],
 "metadata": {
  "colab": {
   "name": "models_check.ipynb",
   "provenance": []
  },
  "kernelspec": {
   "display_name": "Python 3",
   "language": "python",
   "name": "python3"
  },
  "language_info": {
   "codemirror_mode": {
    "name": "ipython",
    "version": 3
   },
   "file_extension": ".py",
   "mimetype": "text/x-python",
   "name": "python",
   "nbconvert_exporter": "python",
   "pygments_lexer": "ipython3",
   "version": "3.6.9"
  }
 },
 "nbformat": 4,
 "nbformat_minor": 4
}
