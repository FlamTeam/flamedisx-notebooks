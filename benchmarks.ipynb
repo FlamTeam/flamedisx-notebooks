{
 "cells": [
  {
   "cell_type": "markdown",
   "metadata": {
    "colab_type": "text",
    "id": "t4YAzBMpzNER"
   },
   "source": [
    "# Flamedisx benchmarking"
   ]
  },
  {
   "cell_type": "markdown",
   "metadata": {
    "colab_type": "text",
    "id": "edYUD8U8zNEe"
   },
   "source": [
    "### Common setup"
   ]
  },
  {
   "cell_type": "code",
   "execution_count": 2,
   "metadata": {
    "colab": {
     "base_uri": "https://localhost:8080/",
     "height": 72
    },
    "colab_type": "code",
    "id": "4mx0rQnq5oUb",
    "outputId": "1781dbd1-1229-42c2-ddb9-930541a5472b"
   },
   "outputs": [],
   "source": [
    "#!nvidia-smi"
   ]
  },
  {
   "cell_type": "code",
   "execution_count": 3,
   "metadata": {
    "colab": {
     "base_uri": "https://localhost:8080/",
     "height": 88
    },
    "colab_type": "code",
    "id": "dN5Vgg-xzNEo",
    "outputId": "f5714457-3de1-4e00-88b4-e67a826d9f66"
   },
   "outputs": [
    {
     "name": "stdout",
     "output_type": "stream",
     "text": [
      "File ‘_if_on_colab_setup_flamedisx.ipynb’ already there; not retrieving.\n",
      "\n",
      "Flamedisx is installed :-)\n"
     ]
    }
   ],
   "source": [
    "!wget -nc https://raw.githubusercontent.com/FlamTeam/flamedisx-notebooks/master/_if_on_colab_setup_flamedisx.ipynb\n",
    "%run _if_on_colab_setup_flamedisx.ipynb"
   ]
  },
  {
   "cell_type": "code",
   "execution_count": 4,
   "metadata": {
    "colab": {},
    "colab_type": "code",
    "id": "VFLfyhVJzNFA"
   },
   "outputs": [],
   "source": [
    "import gc\n",
    "import time\n",
    "\n",
    "import numpy as np\n",
    "import matplotlib\n",
    "import matplotlib.pyplot as plt\n",
    "from tqdm.notebook import tqdm\n",
    "\n",
    "import flamedisx as fd\n",
    "import tensorflow as tf"
   ]
  },
  {
   "cell_type": "markdown",
   "metadata": {
    "colab_type": "text",
    "id": "Sfd1_C7_zNFX"
   },
   "source": [
    "### Simulation benchmark"
   ]
  },
  {
   "cell_type": "code",
   "execution_count": 0,
   "metadata": {
    "colab": {},
    "colab_type": "code",
    "id": "KwLzoG9GzNFa"
   },
   "outputs": [],
   "source": [
    "s = fd.ERSource()\n",
    "n_trials = int(1e6)"
   ]
  },
  {
   "cell_type": "code",
   "execution_count": 0,
   "metadata": {
    "colab": {
     "base_uri": "https://localhost:8080/",
     "height": 35
    },
    "colab_type": "code",
    "id": "N1RYq9rtzNFj",
    "outputId": "6c18f4a3-ca77-48b7-b6c3-59933967367f"
   },
   "outputs": [
    {
     "name": "stdout",
     "output_type": "stream",
     "text": [
      "1 loop, best of 3: 3.99 s per loop\n"
     ]
    }
   ],
   "source": [
    "%%timeit\n",
    "#%%prun -D fd_simulation_.prof\n",
    "s.simulate(n_trials)"
   ]
  },
  {
   "cell_type": "code",
   "execution_count": 0,
   "metadata": {
    "colab": {
     "base_uri": "https://localhost:8080/",
     "height": 35
    },
    "colab_type": "code",
    "id": "1LgDgWqkzNFr",
    "outputId": "ea80f7d0-238b-4f50-83f4-1abe90684e79"
   },
   "outputs": [
    {
     "data": {
      "text/plain": [
       "699300.6993006993"
      ]
     },
     "execution_count": 6,
     "metadata": {
      "tags": []
     },
     "output_type": "execute_result"
    }
   ],
   "source": [
    "1e6/1.43"
   ]
  },
  {
   "cell_type": "code",
   "execution_count": 0,
   "metadata": {
    "colab": {
     "base_uri": "https://localhost:8080/",
     "height": 35
    },
    "colab_type": "code",
    "id": "ykmCGc1HzNF1",
    "outputId": "615fa0e8-b0fe-4a07-d96a-992de3c149a5"
   },
   "outputs": [
    {
     "data": {
      "text/plain": [
       "125"
      ]
     },
     "execution_count": 7,
     "metadata": {
      "tags": []
     },
     "output_type": "execute_result"
    }
   ],
   "source": [
    "del s\n",
    "gc.collect()"
   ]
  },
  {
   "cell_type": "markdown",
   "metadata": {
    "colab_type": "text",
    "id": "Hd9QcT9BzNF8"
   },
   "source": [
    "February 1, Jelle's laptop: 7.0e5 events/sec (1M events = 1.42 sec)\n",
    "\n",
    "Reproduced 23 March (in optimizations branch)"
   ]
  },
  {
   "cell_type": "markdown",
   "metadata": {
    "colab_type": "text",
    "id": "xhvqZqQ1zNGA"
   },
   "source": [
    "For comparison, drawing just a single binomial sample:"
   ]
  },
  {
   "cell_type": "code",
   "execution_count": 0,
   "metadata": {
    "colab": {
     "base_uri": "https://localhost:8080/",
     "height": 35
    },
    "colab_type": "code",
    "id": "kM-3Qzv0zNGC",
    "outputId": "80ab48e6-e85a-4bc9-870e-0eb79ff3df90"
   },
   "outputs": [
    {
     "name": "stdout",
     "output_type": "stream",
     "text": [
      "10 loops, best of 3: 88.9 ms per loop\n"
     ]
    }
   ],
   "source": [
    "%%timeit\n",
    "np.random.binomial(100, 0.1, size=n_trials)"
   ]
  },
  {
   "cell_type": "code",
   "execution_count": 0,
   "metadata": {
    "colab": {
     "base_uri": "https://localhost:8080/",
     "height": 35
    },
    "colab_type": "code",
    "id": "mcMxHM5SzNGI",
    "outputId": "b1c85d90-6103-4817-d21f-220713af6aca"
   },
   "outputs": [
    {
     "data": {
      "text/plain": [
       "11494252.873563219"
      ]
     },
     "execution_count": 9,
     "metadata": {
      "tags": []
     },
     "output_type": "execute_result"
    }
   ],
   "source": [
    "n_trials/87e-3"
   ]
  },
  {
   "cell_type": "markdown",
   "metadata": {
    "colab_type": "text",
    "id": "A8n6kFRRzNGO"
   },
   "source": [
    "February 1, Jelle's laptop: 16M events/sec (1M events = 0.06 sec)\n",
    "\n",
    "March 23, colab CPU: 9.7M events/sec (1M events = 0.1 sec)\n",
    "\n",
    "colab CPU on GPU runtime: 11M events/sec (1M events = 87 msec)"
   ]
  },
  {
   "cell_type": "markdown",
   "metadata": {
    "colab_type": "text",
    "id": "IrEXjCNKzNGQ"
   },
   "source": [
    "### Hist ll cost"
   ]
  },
  {
   "cell_type": "markdown",
   "metadata": {
    "colab_type": "text",
    "id": "BDRWMr2SzNGS"
   },
   "source": [
    "at least 70 bins cS1 (so binning < than PMT resolution), ER/NR disc on level of few * 1e-3 \n",
    "\n",
    "-> need O(10^6) events / cS1 bin to get error comparable to that \n",
    "\n",
    "-> need O(10^7 - 10^8) events to properly sample the ER histogram\n",
    "\n",
    "-> single histogram takes O(10 - 100) seconds to compute."
   ]
  },
  {
   "cell_type": "code",
   "execution_count": 6,
   "metadata": {},
   "outputs": [],
   "source": [
    "import pickle\n",
    "with open('benchmarks_1000evts_hessian_trust.pkl', mode='rb') as f:\n",
    "    q = pickle.load(f)\n",
    "    n_datasets = q['n_datasets']\n",
    "    max_order = q['max_order']\n",
    "    datasets = q['datasets']\n",
    "    n_coeffs_range = q['n_coeffs_range']\n",
    "    t_fit = q['t_fit']\n",
    "    t_init = q['t_init']\n",
    "    t_set_data = q['t_set_data']"
   ]
  },
  {
   "cell_type": "code",
   "execution_count": 36,
   "metadata": {
    "colab": {
     "base_uri": "https://localhost:8080/",
     "height": 297
    },
    "colab_type": "code",
    "id": "aB_fM0R1zNGV",
    "outputId": "308c6f65-270f-4c09-ff99-354cf433c152"
   },
   "outputs": [
    {
     "data": {
      "image/png": "[encoded data removed]",
      "text/plain": [
       "<Figure size 360x222.492 with 1 Axes>"
      ]
     },
     "metadata": {
      "needs_background": "light"
     },
     "output_type": "display_data"
    }
   ],
   "source": [
    "# k rbins, k zbins, k tbins, k^N_nuisance template\n",
    "def cost_hours(n_nuisance=5, k=5, single_hist_sec=100, twod=False):\n",
    "    n = n_nuisance\n",
    "    if not twod:\n",
    "        n = n_nuisance + 4\n",
    "    return single_hist_sec * k**n / 3600\n",
    "\n",
    "n_nuisance = np.arange(11 + 1)\n",
    "\n",
    "from scipy.constants import golden_ratio\n",
    "plt.figure(figsize=(5, 5/golden_ratio))\n",
    "\n",
    "for twod, color, label in [\n",
    "        (False, 'r', '6D template'),\n",
    "        (True, 'b', '2D template')]:\n",
    "    plt.fill_between(n_nuisance, \n",
    "                     cost_hours(n_nuisance, k=5, twod=twod, single_hist_sec=50),\n",
    "                     cost_hours(n_nuisance, k=10, twod=twod, single_hist_sec=200),\n",
    "                     alpha=0.1, color=color, linewidth=0)\n",
    "    plt.plot(n_nuisance, \n",
    "             cost_hours(n_nuisance, k=7, twod=twod),\n",
    "             color=color,\n",
    "             label=label)\n",
    "    \n",
    "plt.errorbar(n_coeffs_range, \n",
    "             t_fit.mean(axis=1)/3600,  # t_fit is in seconds, plot is in hours\n",
    "             yerr=t_fit.std(axis=1, ddof=1)/3600,  \n",
    "             color='g', linestyle='', marker='.',\n",
    "             label='Flamedisx (6D)')\n",
    "\n",
    "plt.yscale('log')\n",
    "plt.ylim(1e-2, 1e7)\n",
    "#plt.ylim(0, 1000)\n",
    "plt.xlim(0, n_nuisance.max()-0.5)\n",
    "#plt.axhline(24 * 365.25, c='k', linestyle='--')\n",
    "yr_h = 24 * 365.25\n",
    "plt.yticks([1/3600, 1/60, 1, 24, yr_h/12, yr_h, yr_h * 10, yr_h * 100, yr_h * 1000],\n",
    "           ['1 sec', '1 min', '1 hour', '1 day', '1 month', '1 yr', '10 yrs', '100 yrs', '1000 yrs'])\n",
    "\n",
    "plt.legend(loc=(0.56, 0.28), frameon=True, \n",
    "           markerscale=1.5)\n",
    "plt.xlabel(\"Nontrivial parameters\")\n",
    "plt.ylabel(\"Time\")\n",
    "plt.tight_layout()\n",
    "plt.subplots_adjust(wspace=0)\n",
    "#plt.savefig('fd_fit_benchmark.png', dpi=200, bbox_inches='tight')\n",
    "plt.savefig('fd_fit_benchmark.pdf', bbox_inches='tight')"
   ]
  },
  {
   "cell_type": "markdown",
   "metadata": {
    "colab_type": "text",
    "id": "I-ma6GYTzNGa"
   },
   "source": [
    "## Fd ll cost"
   ]
  },
  {
   "cell_type": "code",
   "execution_count": 0,
   "metadata": {
    "colab": {},
    "colab_type": "code",
    "id": "kh2x4b4mzNGb"
   },
   "outputs": [],
   "source": [
    "class MyERSource(fd.ERSource):\n",
    "\n",
    "    @staticmethod\n",
    "    def p_electron(nq, \n",
    "                   c0=0.40, \n",
    "                   c1=-0.25, \n",
    "                   c2=0.1, \n",
    "                   c3=0.,\n",
    "                   c4=0.,\n",
    "                   c5=0.,\n",
    "                   c6=0.,\n",
    "                   c7=0.,\n",
    "                   c8=0.,\n",
    "                   c9=0.,\n",
    "                   nq0=365.):\n",
    "        x = fd.tf_log10(nq / nq0 + 1e-9)\n",
    "        x = tf.dtypes.cast(x, dtype=fd.float_type())\n",
    "        return fd.safe_p(\n",
    "            c9 * x**9\n",
    "            + c8 * x**8\n",
    "            + c7 * x**7\n",
    "            + c6 * x**6\n",
    "            + c5 * x**5\n",
    "            + c4 * x**4\n",
    "            + c3 * x**3\n",
    "            + c2 * x**2 \n",
    "            + c1 * x \n",
    "            + c0)\n",
    "\n",
    "n_datasets = 5        \n",
    "datasets = [MyERSource().simulate(1000) for _ in range(n_datasets)]\n",
    "\n",
    "c_ranges = {\n",
    "    0: (0.35, 0.45, 2),\n",
    "    1: (-0.5, -0.1, 2),\n",
    "    2: (0.01, 0.5, 2),\n",
    "}"
   ]
  },
  {
   "cell_type": "code",
   "execution_count": 0,
   "metadata": {
    "colab": {
     "base_uri": "https://localhost:8080/",
     "height": 35
    },
    "colab_type": "code",
    "id": "gGaPaYV-7KcU",
    "outputId": "057bb026-2930-45cc-a2f9-6dff9f9544aa"
   },
   "outputs": [
    {
     "name": "stderr",
     "output_type": "stream",
     "text": [
      "Estimating mus: 100%|██████████| 4/4 [00:05<00:00,  1.30s/it]\n"
     ]
    }
   ],
   "source": [
    "def get_ll(n_coeffs):\n",
    "    ll = fd.LogLikelihood(\n",
    "            sources=dict(er=MyERSource),\n",
    "            batch_size=10,\n",
    "            data=datasets[0][:1],   # only need one event for this\n",
    "            # TODO: option to skip precomputation!\n",
    "            free_rates=('er',),\n",
    "            **{'c' + str(i): c_ranges.get(i, (-0.5, 0.5, 2))\n",
    "               for i in range(n_coeffs)}\n",
    "        )\n",
    "    ll.log_likelihood(second_order=True)  # Ensure all tracing has happened\n",
    "    return ll\n",
    "    \n",
    "ll = get_ll(4)"
   ]
  },
  {
   "cell_type": "code",
   "execution_count": 0,
   "metadata": {
    "colab": {},
    "colab_type": "code",
    "id": "NxmISQDB7PGi"
   },
   "outputs": [],
   "source": [
    "ll.set_data(datasets[1])"
   ]
  },
  {
   "cell_type": "code",
   "execution_count": 0,
   "metadata": {
    "colab": {
     "base_uri": "https://localhost:8080/",
     "height": 35
    },
    "colab_type": "code",
    "id": "U6DOkYXr_XGR",
    "outputId": "8b0f65b0-9cd8-4daf-e2de-06a9fd85a5c2"
   },
   "outputs": [
    {
     "name": "stdout",
     "output_type": "stream",
     "text": [
      "1 loop, best of 3: 36.9 s per loop\n"
     ]
    }
   ],
   "source": [
    "%%timeit\n",
    "ll.log_likelihood()"
   ]
  },
  {
   "cell_type": "code",
   "execution_count": 0,
   "metadata": {
    "colab": {
     "base_uri": "https://localhost:8080/",
     "height": 35
    },
    "colab_type": "code",
    "id": "AuybZjI47jci",
    "outputId": "d03cb868-a242-4733-87d8-ac371a740372"
   },
   "outputs": [
    {
     "name": "stdout",
     "output_type": "stream",
     "text": [
      "1 loop, best of 3: 41.3 s per loop\n"
     ]
    }
   ],
   "source": [
    "\n",
    "%%timeit\n",
    "ll.log_likelihood()"
   ]
  },
  {
   "cell_type": "code",
   "execution_count": 0,
   "metadata": {
    "colab": {
     "base_uri": "https://localhost:8080/",
     "height": 35
    },
    "colab_type": "code",
    "id": "b9WZbEHx9Dyn",
    "outputId": "b8b53fe3-a198-4e08-b003-e64db6e499ac"
   },
   "outputs": [
    {
     "data": {
      "text/plain": [
       "8.333333333333334"
      ]
     },
     "execution_count": 44,
     "metadata": {
      "tags": []
     },
     "output_type": "execute_result"
    }
   ],
   "source": [
    "1000/120"
   ]
  },
  {
   "cell_type": "code",
   "execution_count": 0,
   "metadata": {
    "colab": {},
    "colab_type": "code",
    "id": "lU6dzFc471XA"
   },
   "outputs": [],
   "source": [
    "\n",
    "315"
   ]
  },
  {
   "cell_type": "code",
   "execution_count": 0,
   "metadata": {
    "colab": {
     "base_uri": "https://localhost:8080/",
     "height": 1000
    },
    "colab_type": "code",
    "id": "i8njO9XvzNGr",
    "outputId": "1230cce6-d881-45d9-fa8f-289d1d46c460"
   },
   "outputs": [
    {
     "name": "stderr",
     "output_type": "stream",
     "text": [
      "Estimating mus: 100%|██████████| 1/1 [00:01<00:00,  1.05s/it]\n"
     ]
    },
    {
     "name": "stdout",
     "output_type": "stream",
     "text": [
      "Initialization with 1 parameters took 13.28 sec\n",
      "set_data with 1 parameters took 0.05 sec\n",
      "Fitting with 1 parameters took 1.63 sec\n",
      "set_data with 1 parameters took 0.04 sec\n",
      "Fitting with 1 parameters took 2.06 sec\n",
      "set_data with 1 parameters took 0.04 sec\n",
      "Fitting with 1 parameters took 2.05 sec\n",
      "set_data with 1 parameters took 0.04 sec\n",
      "Fitting with 1 parameters took 1.55 sec\n",
      "set_data with 1 parameters took 0.04 sec\n",
      "Fitting with 1 parameters took 2.07 sec\n",
      "\n",
      "\n"
     ]
    },
    {
     "name": "stderr",
     "output_type": "stream",
     "text": [
      "Estimating mus: 100%|██████████| 2/2 [00:02<00:00,  1.08s/it]\n"
     ]
    },
    {
     "name": "stdout",
     "output_type": "stream",
     "text": [
      "Initialization with 2 parameters took 11.94 sec\n",
      "set_data with 2 parameters took 0.04 sec\n",
      "Fitting with 2 parameters took 3.97 sec\n",
      "set_data with 2 parameters took 0.04 sec\n",
      "Fitting with 2 parameters took 3.15 sec\n",
      "set_data with 2 parameters took 0.04 sec\n",
      "Fitting with 2 parameters took 3.03 sec\n",
      "set_data with 2 parameters took 0.04 sec\n",
      "Fitting with 2 parameters took 3.00 sec\n",
      "set_data with 2 parameters took 0.04 sec\n",
      "Fitting with 2 parameters took 3.12 sec\n",
      "\n",
      "\n"
     ]
    },
    {
     "name": "stderr",
     "output_type": "stream",
     "text": [
      "Estimating mus: 100%|██████████| 3/3 [00:03<00:00,  1.07s/it]\n"
     ]
    },
    {
     "name": "stdout",
     "output_type": "stream",
     "text": [
      "Initialization with 3 parameters took 12.64 sec\n",
      "set_data with 3 parameters took 0.04 sec\n",
      "Fitting with 3 parameters took 6.12 sec\n",
      "set_data with 3 parameters took 0.04 sec\n",
      "Fitting with 3 parameters took 5.21 sec\n",
      "set_data with 3 parameters took 0.04 sec\n",
      "Fitting with 3 parameters took 4.08 sec\n",
      "set_data with 3 parameters took 0.04 sec\n",
      "Fitting with 3 parameters took 4.16 sec\n",
      "set_data with 3 parameters took 0.04 sec\n",
      "Fitting with 3 parameters took 3.18 sec\n",
      "\n",
      "\n"
     ]
    },
    {
     "name": "stderr",
     "output_type": "stream",
     "text": [
      "Estimating mus: 100%|██████████| 4/4 [00:04<00:00,  1.04s/it]\n"
     ]
    },
    {
     "name": "stdout",
     "output_type": "stream",
     "text": [
      "Initialization with 4 parameters took 13.64 sec\n",
      "set_data with 4 parameters took 0.04 sec\n",
      "Fitting with 4 parameters took 6.32 sec\n",
      "set_data with 4 parameters took 0.04 sec\n",
      "Fitting with 4 parameters took 3.69 sec\n",
      "set_data with 4 parameters took 0.04 sec\n",
      "Fitting with 4 parameters took 6.58 sec\n",
      "set_data with 4 parameters took 0.04 sec\n",
      "Fitting with 4 parameters took 6.54 sec\n",
      "set_data with 4 parameters took 0.04 sec\n",
      "Fitting with 4 parameters took 7.66 sec\n",
      "\n",
      "\n"
     ]
    },
    {
     "name": "stderr",
     "output_type": "stream",
     "text": [
      "Estimating mus: 100%|██████████| 5/5 [00:05<00:00,  1.03s/it]\n"
     ]
    },
    {
     "name": "stdout",
     "output_type": "stream",
     "text": [
      "Initialization with 5 parameters took 15.26 sec\n",
      "set_data with 5 parameters took 0.04 sec\n",
      "Fitting with 5 parameters took 67.32 sec\n",
      "set_data with 5 parameters took 0.04 sec\n",
      "Fitting with 5 parameters took 70.56 sec\n",
      "set_data with 5 parameters took 0.04 sec\n",
      "Fitting with 5 parameters took 71.30 sec\n",
      "set_data with 5 parameters took 0.04 sec\n",
      "Fitting with 5 parameters took 48.64 sec\n",
      "set_data with 5 parameters took 0.04 sec\n",
      "Fitting with 5 parameters took 75.65 sec\n",
      "\n",
      "\n"
     ]
    },
    {
     "name": "stderr",
     "output_type": "stream",
     "text": [
      "Estimating mus: 100%|██████████| 6/6 [00:06<00:00,  1.03s/it]\n"
     ]
    },
    {
     "name": "stdout",
     "output_type": "stream",
     "text": [
      "Initialization with 6 parameters took 16.75 sec\n",
      "set_data with 6 parameters took 0.04 sec\n",
      "Fitting with 6 parameters took 81.18 sec\n",
      "set_data with 6 parameters took 0.05 sec\n",
      "Fitting with 6 parameters took 72.68 sec\n",
      "set_data with 6 parameters took 0.04 sec\n",
      "Fitting with 6 parameters took 88.54 sec\n",
      "set_data with 6 parameters took 0.05 sec\n",
      "Fitting with 6 parameters took 66.70 sec\n",
      "set_data with 6 parameters took 0.04 sec\n",
      "Fitting with 6 parameters took 74.35 sec\n",
      "\n",
      "\n"
     ]
    },
    {
     "name": "stderr",
     "output_type": "stream",
     "text": [
      "Estimating mus: 100%|██████████| 7/7 [00:07<00:00,  1.06s/it]\n"
     ]
    },
    {
     "name": "stdout",
     "output_type": "stream",
     "text": [
      "Initialization with 7 parameters took 19.02 sec\n",
      "set_data with 7 parameters took 0.05 sec\n",
      "Fitting with 7 parameters took 76.81 sec\n",
      "set_data with 7 parameters took 0.04 sec\n",
      "Fitting with 7 parameters took 97.68 sec\n",
      "set_data with 7 parameters took 0.04 sec\n",
      "Fitting with 7 parameters took 85.30 sec\n",
      "set_data with 7 parameters took 0.05 sec\n",
      "Fitting with 7 parameters took 160.36 sec\n",
      "set_data with 7 parameters took 0.04 sec\n",
      "Fitting with 7 parameters took 100.35 sec\n",
      "\n",
      "\n"
     ]
    },
    {
     "name": "stderr",
     "output_type": "stream",
     "text": [
      "Estimating mus: 100%|██████████| 8/8 [00:08<00:00,  1.07s/it]\n"
     ]
    },
    {
     "name": "stdout",
     "output_type": "stream",
     "text": [
      "Initialization with 8 parameters took 20.72 sec\n",
      "set_data with 8 parameters took 0.04 sec\n",
      "Fitting with 8 parameters took 83.89 sec\n",
      "set_data with 8 parameters took 0.04 sec\n",
      "Fitting with 8 parameters took 86.38 sec\n",
      "set_data with 8 parameters took 0.04 sec\n",
      "Fitting with 8 parameters took 115.36 sec\n",
      "set_data with 8 parameters took 0.04 sec\n",
      "Fitting with 8 parameters took 67.26 sec\n",
      "set_data with 8 parameters took 0.05 sec\n",
      "Fitting with 8 parameters took 77.47 sec\n",
      "\n",
      "\n"
     ]
    },
    {
     "name": "stderr",
     "output_type": "stream",
     "text": [
      "Estimating mus: 100%|██████████| 9/9 [00:09<00:00,  1.08s/it]\n"
     ]
    },
    {
     "name": "stdout",
     "output_type": "stream",
     "text": [
      "Initialization with 9 parameters took 22.61 sec\n",
      "set_data with 9 parameters took 0.05 sec\n",
      "Fitting with 9 parameters took 120.58 sec\n",
      "set_data with 9 parameters took 0.05 sec\n",
      "Fitting with 9 parameters took 92.86 sec\n",
      "set_data with 9 parameters took 0.04 sec\n",
      "Fitting with 9 parameters took 124.81 sec\n",
      "set_data with 9 parameters took 0.04 sec\n",
      "Fitting with 9 parameters took 106.06 sec\n",
      "set_data with 9 parameters took 0.04 sec\n",
      "Fitting with 9 parameters took 97.87 sec\n",
      "\n",
      "\n"
     ]
    },
    {
     "name": "stderr",
     "output_type": "stream",
     "text": [
      "Estimating mus: 100%|██████████| 10/10 [00:10<00:00,  1.06s/it]\n"
     ]
    },
    {
     "name": "stdout",
     "output_type": "stream",
     "text": [
      "Initialization with 10 parameters took 24.44 sec\n",
      "set_data with 10 parameters took 0.04 sec\n",
      "Fitting with 10 parameters took 123.15 sec\n",
      "set_data with 10 parameters took 0.05 sec\n",
      "Fitting with 10 parameters took 149.13 sec\n",
      "set_data with 10 parameters took 0.04 sec\n",
      "Fitting with 10 parameters took 152.53 sec\n",
      "set_data with 10 parameters took 0.04 sec\n",
      "Fitting with 10 parameters took 96.03 sec\n",
      "set_data with 10 parameters took 0.04 sec\n",
      "Fitting with 10 parameters took 118.63 sec\n",
      "\n",
      "\n"
     ]
    }
   ],
   "source": [
    "max_order = 10\n",
    "n_coeffs_range = np.arange(1, max_order + 1)\n",
    "t_fit = np.zeros((max_order, n_datasets))\n",
    "t_init = np.zeros(max_order)\n",
    "t_single = np.zeros((max_order, n_datasets))\n",
    "t_set_data = np.zeros((max_order, n_datasets))\n",
    "\n",
    "for _nc_i, n_coeffs in enumerate(n_coeffs_range):\n",
    "    t0 = time.time()\n",
    "    ll = fd.LogLikelihood(\n",
    "        sources=dict(er=MyERSource),\n",
    "        batch_size=100,\n",
    "        data=datasets[0][:1],   # only need one event for this\n",
    "        # TODO: option to skip precomputation!\n",
    "        #free_rates=('er',),\n",
    "        **{'c' + str(i): c_ranges.get(i, (-0.5, 0.5, 2))\n",
    "        for i in range(n_coeffs)})\n",
    "    ll.log_likelihood(second_order=True)  # Ensure all tracing has happened\n",
    "    t_init[_nc_i] = t = time.time() - t0\n",
    "    print(f\"Initialization with {n_coeffs} parameters took {t:.2f} sec\")\n",
    "\n",
    "\n",
    "    for data_i, data in enumerate(datasets):\n",
    "        t0 = time.time()\n",
    "        ll.set_data(data)\n",
    "        t_set_data[_nc_i, data_i] = t = time.time() - t0\n",
    "        print(f\"set_data with {n_coeffs} parameters took {t:.2f} sec\")\n",
    "\n",
    "        t0 = time.time()\n",
    "        bf = ll.bestfit(#guess=dict(er_rate_multiplier=0.0011 * len(data)),\n",
    "                        #optimizer_kwargs=dict(method='tnc'),\n",
    "                        #optimizer='minuit'\n",
    "                        )\n",
    "        t_fit[_nc_i, data_i] = t = time.time() - t0\n",
    "        print(f\"Fitting with {n_coeffs} parameters took {t:.2f} sec\")\n",
    "\n",
    "    print(\"\\n\")\n",
    "    del ll\n",
    "    gc.collect()\n"
   ]
  },
  {
   "cell_type": "code",
   "execution_count": 0,
   "metadata": {
    "colab": {},
    "colab_type": "code",
    "id": "oTQRU5HsOrLW"
   },
   "outputs": [],
   "source": [
    "import pickle\n",
    "with open('benchmarks_1000evts_hessian_trust_2.pkl', mode='wb') as f:\n",
    "    pickle.dump(\n",
    "        dict(\n",
    "            n_datasets=n_datasets,\n",
    "            max_order=max_order,\n",
    "\n",
    "            datasets=datasets,\n",
    "\n",
    "            n_coeffs_range=n_coeffs_range,\n",
    "            t_fit=t_fit,\n",
    "            t_init=t_init,\n",
    "            t_set_data=t_set_data), \n",
    "        f)"
   ]
  },
  {
   "cell_type": "markdown",
   "metadata": {},
   "source": [
    "# Old stuff"
   ]
  },
  {
   "cell_type": "code",
   "execution_count": 0,
   "metadata": {
    "colab": {
     "base_uri": "https://localhost:8080/",
     "height": 299
    },
    "colab_type": "code",
    "id": "ZhvRXA-KXCWn",
    "outputId": "bd8740c7-73dc-4f47-dcca-d967c115384c"
   },
   "outputs": [
    {
     "data": {
      "text/plain": [
       "<ErrorbarContainer object of 3 artists>"
      ]
     },
     "execution_count": 96,
     "metadata": {
      "tags": []
     },
     "output_type": "execute_result"
    },
    {
     "data": {
      "image/png": "[encoded data removed]",
      "text/plain": [
       "<Figure size 432x288 with 1 Axes>"
      ]
     },
     "metadata": {
      "tags": []
     },
     "output_type": "display_data"
    }
   ],
   "source": [
    "\n",
    "plt.title('1000 evts')\n",
    "plt.errorbar(n_coeffs_range, \n",
    "             t_fit.mean(axis=1), \n",
    "             yerr=t_fit.std(axis=1, ddof=1),\n",
    "             color='g', \n",
    "             label='6D, flamedisx')\n",
    "#plt.plot(n_coeffs_range, t_init, marker='.')"
   ]
  },
  {
   "cell_type": "code",
   "execution_count": 0,
   "metadata": {
    "colab": {
     "base_uri": "https://localhost:8080/",
     "height": 299
    },
    "colab_type": "code",
    "id": "-Nc8FTv79MCV",
    "outputId": "619e6f18-c0b0-4639-f7b8-4602b22b10ed"
   },
   "outputs": [
    {
     "data": {
      "text/plain": [
       "<ErrorbarContainer object of 3 artists>"
      ]
     },
     "execution_count": 91,
     "metadata": {
      "tags": []
     },
     "output_type": "execute_result"
    },
    {
     "data": {
      "image/png": "[encoded data removed]",
      "text/plain": [
       "<Figure size 432x288 with 1 Axes>"
      ]
     },
     "metadata": {
      "tags": []
     },
     "output_type": "display_data"
    }
   ],
   "source": []
  },
  {
   "cell_type": "code",
   "execution_count": 0,
   "metadata": {
    "colab": {
     "base_uri": "https://localhost:8080/",
     "height": 299
    },
    "colab_type": "code",
    "id": "3b03psws8N5J",
    "outputId": "4f29b498-cc19-4ae0-ca68-46a759401642"
   },
   "outputs": [
    {
     "data": {
      "text/plain": [
       "[<matplotlib.lines.Line2D at 0x7f017866b2b0>]"
      ]
     },
     "execution_count": 78,
     "metadata": {
      "tags": []
     },
     "output_type": "execute_result"
    },
    {
     "data": {
      "image/png": "[encoded data removed]",
      "text/plain": [
       "<Figure size 432x288 with 1 Axes>"
      ]
     },
     "metadata": {
      "tags": []
     },
     "output_type": "display_data"
    }
   ],
   "source": [
    "\n",
    "plt.title('500 evts')\n",
    "plt.plot(n_coeffs_range, t_fit, marker='.')\n",
    "plt.plot(n_coeffs_range, t_init, marker='.')"
   ]
  },
  {
   "cell_type": "code",
   "execution_count": 0,
   "metadata": {
    "colab": {
     "base_uri": "https://localhost:8080/",
     "height": 299
    },
    "colab_type": "code",
    "id": "SIpbaDu2zNG8",
    "outputId": "3c557129-2373-4730-b17c-4a78d78b9a63"
   },
   "outputs": [
    {
     "data": {
      "text/plain": [
       "[<matplotlib.lines.Line2D at 0x7f016d1c0da0>]"
      ]
     },
     "execution_count": 75,
     "metadata": {
      "tags": []
     },
     "output_type": "execute_result"
    },
    {
     "data": {
      "image/png": "[encoded data removed]",
      "text/plain": [
       "<Figure size 432x288 with 1 Axes>"
      ]
     },
     "metadata": {
      "tags": []
     },
     "output_type": "display_data"
    }
   ],
   "source": [
    "plt.title('100 evts')\n",
    "plt.plot(n_coeffs_range, t_fit, marker='.')\n",
    "plt.plot(n_coeffs_range, t_init, marker='.')"
   ]
  },
  {
   "cell_type": "code",
   "execution_count": 0,
   "metadata": {
    "colab": {
     "base_uri": "https://localhost:8080/",
     "height": 88
    },
    "colab_type": "code",
    "id": "14sm25bR7irz",
    "outputId": "1a497985-54c3-4d86-873c-dc88a1fbd590"
   },
   "outputs": [
    {
     "data": {
      "text/plain": [
       "(array([ 1,  2,  3,  4,  5,  6,  7,  8,  9, 10]),\n",
       " array([  1.13471746,   1.88248491,  21.33644128,  34.91656089,\n",
       "         29.98408008,  38.16339254,  52.54934001,  66.83897233,\n",
       "         76.93696642, 116.23193955]))"
      ]
     },
     "execution_count": 69,
     "metadata": {
      "tags": []
     },
     "output_type": "execute_result"
    }
   ],
   "source": [
    "# 100 events, fit time only. \n",
    "n_coeffs_range, results"
   ]
  },
  {
   "cell_type": "code",
   "execution_count": 0,
   "metadata": {
    "colab": {
     "base_uri": "https://localhost:8080/",
     "height": 326
    },
    "colab_type": "code",
    "id": "OW6yrGQ2zNHA",
    "outputId": "a4d36f3f-194d-4ffb-dc19-2f079e564cdd"
   },
   "outputs": [
    {
     "data": {
      "text/plain": [
       "<matplotlib.legend.Legend at 0x7f0179237c88>"
      ]
     },
     "execution_count": 50,
     "metadata": {
      "tags": []
     },
     "output_type": "execute_result"
    },
    {
     "data": {
      "image/png": "[encoded data removed]",
      "text/plain": [
       "<Figure size 432x288 with 2 Axes>"
      ]
     },
     "metadata": {
      "tags": []
     },
     "output_type": "display_data"
    }
   ],
   "source": [
    "def plot_nq(s_class=fd.ERSource, plot_kwargs=None, twin=True, \n",
    "            # Eat params we don't need...\n",
    "            er_rate_multiplier=None, elife=None, g2=None,\n",
    "            **params):\n",
    "    if plot_kwargs is None:\n",
    "        plot_kwargs = dict()\n",
    "    nq = np.logspace(1, 4, 100)\n",
    "    \n",
    "    plt.plot(nq, s_class.p_electron(nq, **params), **plot_kwargs)\n",
    "    plt.xlabel('Produced quanta')\n",
    "    plt.ylabel('p_electron')\n",
    "    plt.xlim(10, 1e4)\n",
    "    plt.xscale('log')\n",
    "    ax = plt.gca()\n",
    "    \n",
    "    if twin:\n",
    "        ax2 = plt.twiny()\n",
    "        ax2.set_xscale('log')\n",
    "        ax2.set_xlim(*np.array(ax.get_xlim()) * fd.ERSource.work)\n",
    "        ax2.set_xlabel(\"Energy [keV]\")\n",
    "\n",
    "    for x in [ax] + ([ax2] if twin else []):\n",
    "        x.xaxis.set_major_formatter(matplotlib.ticker.ScalarFormatter())\n",
    "    plt.sca(ax)\n",
    "        \n",
    "plot_nq(plot_kwargs=dict(label='Truth'))\n",
    "plot_nq(MyERSource, plot_kwargs=dict(label='Guess'), twin=False)\n",
    "plot_nq(MyERSource, plot_kwargs=dict(label='Fit'), twin=False, **bf)\n",
    "plt.legend(loc='upper right')"
   ]
  },
  {
   "cell_type": "code",
   "execution_count": 0,
   "metadata": {
    "colab": {},
    "colab_type": "code",
    "id": "uzvwwZYazNHF",
    "outputId": "e488e137-2ec0-4827-eb14-d46c322dba5c"
   },
   "outputs": [
    {
     "name": "stdout",
     "output_type": "stream",
     "text": [
      "er_rate_multiplier: 0.0107 +- 0.00254\n",
      "a: 0.813 +- 0.546\n",
      "b: -0.201 +- 0.0959\n",
      "c: 0.325 +- 0.0271\n",
      "Correlation matrix:\n",
      "                    er_rate_multiplier      a      b      c\n",
      "er_rate_multiplier               1.000  0.024 -0.062  0.009\n",
      "a                                0.024  1.000 -0.386 -0.724\n",
      "b                               -0.062 -0.386  1.000 -0.142\n",
      "c                                0.009 -0.724 -0.142  1.000\n"
     ]
    }
   ],
   "source": [
    "ll.summary(bf)"
   ]
  }
 ],
 "metadata": {
  "colab": {
   "collapsed_sections": [],
   "name": "benchmarks.ipynb",
   "provenance": []
  },
  "kernelspec": {
   "display_name": "Python 3",
   "language": "python",
   "name": "python3"
  },
  "language_info": {
   "codemirror_mode": {
    "name": "ipython",
    "version": 3
   },
   "file_extension": ".py",
   "mimetype": "text/x-python",
   "name": "python",
   "nbconvert_exporter": "python",
   "pygments_lexer": "ipython3",
   "version": "3.7.6"
  }
 },
 "nbformat": 4,
 "nbformat_minor": 1
}
