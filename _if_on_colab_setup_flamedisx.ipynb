{
 "cells": [
  {
   "cell_type": "code",
   "execution_count": null,
   "metadata": {},
   "outputs": [],
   "source": [
    "##\n",
    "# Flamedisx colab setup\n",
    "##\n",
    "import sys\n",
    "if 'google.colab' in sys.modules:\n",
    "    %tensorflow_version 2.x\n",
    "    try:\n",
    "        import flamedisx\n",
    "    except ImportError:\n",
    "        branch = \"master\" if len(sys.argv) < 2 else sys.argv[1]\n",
    "        print(f\"Cloning Flamedisx and checking out branch {branch}\")\n",
    "\n",
    "        !git clone https://github.com/FlamTeam/flamedisx.git\n",
    "        %cd flamedisx\n",
    "        !git checkout $branch\n",
    "        !git pull origin $branch\n",
    "        !python setup.py develop\n",
    "        %cd ..\n",
    "\n",
    "import flamedisx as fd\n",
    "if not hasattr(fd, 'ERSource'):\n",
    "    print(\"\\n\\n>>Flamedisx is not yet installed. Restart the runtime<<!\")\n",
    "else:\n",
    "    print(\"Flamedisx is installed :-)\")"
   ]
  }
 ],
 "metadata": {
  "kernelspec": {
   "display_name": "Python 3",
   "language": "python",
   "name": "python3"
  },
  "language_info": {
   "codemirror_mode": {
    "name": "ipython",
    "version": 3
   },
   "file_extension": ".py",
   "mimetype": "text/x-python",
   "name": "python",
   "nbconvert_exporter": "python",
   "pygments_lexer": "ipython3",
   "version": "3.6.9"
  }
 },
 "nbformat": 4,
 "nbformat_minor": 2
}
