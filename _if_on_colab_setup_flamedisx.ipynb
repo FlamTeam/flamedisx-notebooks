{
 "cells": [
  {
   "cell_type": "code",
   "execution_count": 1,
   "metadata": {},
   "outputs": [],
   "source": [
    "##\n",
    "# Flamedisx colab setup\n",
    "##\n",
    "import sys\n",
    "if 'google.colab' in sys.modules:\n",
    "    %tensorflow_version 2.x\n",
    "    try:\n",
    "        import flamedisx\n",
    "    except ImportError:\n",
    "      !git clone https://github.com/FlamTeam/flamedisx.git\n",
    "      %cd flamedisx\n",
    "      !git checkout master\n",
    "      !git pull origin master\n",
    "      !python setup.py develop\n",
    "      %cd ..\n",
    "\n",
    "import flamedisx as fd\n",
    "if not hasattr(fd, 'ERSource'):\n",
    "    print(\"\\n\\n>>Flamedisx is not yet installed. Restart the runtime<<!\")\n",
    "else:\n",
    "    print(\"Flamedisx is installed :-)\")"
   ]
  }
 ],
 "metadata": {
  "kernelspec": {
   "display_name": "Python 3",
   "language": "python",
   "name": "python3"
  },
  "language_info": {
   "codemirror_mode": {
    "name": "ipython",
    "version": 3
   },
   "file_extension": ".py",
   "mimetype": "text/x-python",
   "name": "python",
   "nbconvert_exporter": "python",
   "pygments_lexer": "ipython3",
   "version": "3.6.9"
  }
 },
 "nbformat": 4,
 "nbformat_minor": 2
}
