{
  "nbformat": 4,
  "nbformat_minor": 0,
  "metadata": {
    "colab": {
      "name": "flamedisx_sensitivity.ipynb",
      "provenance": [],
      "collapsed_sections": []
    },
    "kernelspec": {
      "name": "python3",
      "display_name": "Python 3"
    },
    "accelerator": "GPU"
  },
  "cells": [
    {
      "cell_type": "code",
      "metadata": {
        "id": "yqnc41Mh8cdy",
        "colab_type": "code",
        "colab": {}
      },
      "source": [
        "%tensorflow_version 2.x"
      ],
      "execution_count": 0,
      "outputs": []
    },
    {
      "cell_type": "code",
      "metadata": {
        "id": "lWNgLSN--ujx",
        "colab_type": "code",
        "colab": {}
      },
      "source": [
        "!git clone https://github.com/FlamTeam/flamedisx.git\n",
        "\n",
        "%cd flamedisx\n",
        "!git checkout master\n",
        "!git pull origin master\n",
        "!python setup.py develop\n",
        "%cd .."
      ],
      "execution_count": 0,
      "outputs": []
    },
    {
      "cell_type": "code",
      "metadata": {
        "id": "XmIgRT56I-bj",
        "colab_type": "code",
        "colab": {}
      },
      "source": [
        "import tensorflow as tf\n",
        "tf.__version__, tf.test.is_built_with_gpu_support(), tf.test.is_gpu_available()"
      ],
      "execution_count": 0,
      "outputs": []
    },
    {
      "cell_type": "code",
      "metadata": {
        "id": "kKTz8KP3BwB9",
        "colab_type": "code",
        "colab": {}
      },
      "source": [
        "import pandas as pd\n",
        "np = pd.np\n",
        "import flamedisx as fd\n",
        "import matplotlib.pyplot as plt\n",
        "import scipy\n",
        "from tqdm import tqdm\n",
        "\n",
        "%matplotlib inline"
      ],
      "execution_count": 0,
      "outputs": []
    },
    {
      "cell_type": "code",
      "metadata": {
        "id": "R7m4T5PLvc5E",
        "colab_type": "code",
        "colab": {}
      },
      "source": [
        "# Restart runtime if this says: <module 'flamedisx' (namespace)>\n",
        "fd"
      ],
      "execution_count": 0,
      "outputs": []
    },
    {
      "cell_type": "markdown",
      "metadata": {
        "id": "JuL8CLnGNJd4",
        "colab_type": "text"
      },
      "source": [
        "# SR1-like Source"
      ]
    },
    {
      "cell_type": "code",
      "metadata": {
        "id": "Zn_BV_CMORNS",
        "colab_type": "code",
        "colab": {}
      },
      "source": [
        "r = fd.LXeSource.tpc_radius\n",
        "l = fd.LXeSource.tpc_length\n",
        "v = np.pi * r ** 2 * l\n",
        "print(f'XENON1T tpc volume {v / 1e6 :.3g} m^3 holds 2 tonnes LXe')\n",
        "v_small = v / 2 * 1.3\n",
        "r_small = (v_small / l / np.pi)**0.5\n",
        "print(f'TPC with radius {r_small :.3g} cm holds 1.3 tonnes LXe')"
      ],
      "execution_count": 0,
      "outputs": []
    },
    {
      "cell_type": "code",
      "metadata": {
        "id": "DM5JcUxGNJBW",
        "colab_type": "code",
        "colab": {}
      },
      "source": [
        "class myERSource(fd.SR1ERSource):\n",
        "    # Modify TPC radius to contain 1.3 tonne LXe\n",
        "    tpc_radius = r_small # cm\n",
        "\n",
        "    # Needed untill FD PR #58 is merged\n",
        "    def add_extra_columns(self, d):\n",
        "        super().add_extra_columns(d)\n",
        "        # Try new faster implementation, see flamedisx PR #58\n",
        "        if 't' not in d:\n",
        "            zero = pd.to_datetime('2000-01-01T12:00')\n",
        "            nanoseconds_per_day = 1e9 * 3600 * 24\n",
        "            d['t'] = (d['event_time'] - zero.value) / nanoseconds_per_day\n",
        "\n",
        "class myWIMPSource(fd.x1t_sr1.SR1NRSource, fd.WIMPSource):\n",
        "    extra_needed_columns = tuple(set(\n",
        "    list(fd.x1t_sr1.SR1NRSource.extra_needed_columns) +\n",
        "    list(fd.WIMPSource.extra_needed_columns)))\n",
        "\n",
        "    # Modify TPC radius to contain 1.3 tonne LXe\n",
        "    tpc_radius = r_small # cm\n",
        "\n",
        "    # WIMP settings\n",
        "    n_in = 2\n",
        "    es = np.geomspace(0.7, 50, 100)  # [keV]\n",
        "    mw = 2e2  # GeV\n",
        "    sigma_nucleon = 4.7e-47 # cm^2\n",
        "\n",
        "    # Needed untill FD PR #58 is merged\n",
        "    def add_extra_columns(self, d):\n",
        "        super().add_extra_columns(d)\n",
        "        # Try new faster implementation, see flamedisx PR #58\n",
        "        if 't' not in d:\n",
        "            zero = pd.to_datetime('2000-01-01T12:00')\n",
        "            nanoseconds_per_day = 1e9 * 3600 * 24\n",
        "            d['t'] = (d['event_time'] - zero.value) / nanoseconds_per_day"
      ],
      "execution_count": 0,
      "outputs": []
    },
    {
      "cell_type": "markdown",
      "metadata": {
        "id": "N3nU66-gNB2L",
        "colab_type": "text"
      },
      "source": [
        "# Likelihood definition"
      ]
    },
    {
      "cell_type": "code",
      "metadata": {
        "id": "r9Sn5I89InTQ",
        "colab_type": "code",
        "colab": {}
      },
      "source": [
        "lf = fd.LogLikelihood(sources=dict(er=myERSource,\n",
        "                                   wimp=myWIMPSource),\n",
        "                      free_rates=('er', 'wimp'),\n",
        "                      batch_size=350)"
      ],
      "execution_count": 0,
      "outputs": []
    },
    {
      "cell_type": "code",
      "metadata": {
        "id": "MJM_3eD_SGfG",
        "colab_type": "code",
        "colab": {}
      },
      "source": [
        "# find rate params such that mean number of ER events = 627 and WIMP events = 3.56\n",
        "def sim(r_er, r_wimp, n_trials=100):\n",
        "    n_er, n_wimp = 0, 0\n",
        "    for _ in tqdm(range(n_trials)):\n",
        "        s_ids = lf.simulate(er_rate_multiplier=r_er,\n",
        "                            wimp_rate_multiplier=r_wimp)['source']\n",
        "        n_er += (s_ids == 'er').sum()\n",
        "        n_wimp += (s_ids == 'wimp').sum()\n",
        "    return n_er/n_trials, n_wimp/n_trials"
      ],
      "execution_count": 0,
      "outputs": []
    },
    {
      "cell_type": "code",
      "metadata": {
        "id": "JXg3lCVvT3A1",
        "colab_type": "code",
        "colab": {}
      },
      "source": [
        "sim(0.82, 0.8)"
      ],
      "execution_count": 0,
      "outputs": []
    },
    {
      "cell_type": "code",
      "metadata": {
        "id": "Oeg49tLMVKM2",
        "colab_type": "code",
        "colab": {}
      },
      "source": [
        "er_rate_true = 0.82\n",
        "wimp_rate_true = 0.8"
      ],
      "execution_count": 0,
      "outputs": []
    },
    {
      "cell_type": "markdown",
      "metadata": {
        "id": "TQxW5HyNgCn7",
        "colab_type": "text"
      },
      "source": [
        "# ToyMC definition"
      ]
    },
    {
      "cell_type": "code",
      "metadata": {
        "id": "j7IXvGw4xAsm",
        "colab_type": "code",
        "colab": {}
      },
      "source": [
        "# UL only\n",
        "crit_val = scipy.stats.norm.ppf(0.9) ** 2"
      ],
      "execution_count": 0,
      "outputs": []
    },
    {
      "cell_type": "code",
      "metadata": {
        "id": "kYmhgxcGRywH",
        "colab_type": "code",
        "colab": {}
      },
      "source": [
        "def ll_check(lf, bf, ll_best=None):\n",
        "    if ll_best is None:\n",
        "        ll_best = lf(**bf)\n",
        "\n",
        "    xs = np.linspace(0.0, 3.5, 50)\n",
        "    ys = np.array([lf(wimp_rate_multiplier=x,\n",
        "                      er_rate_multiplier=bf['er_rate_multiplier']) for x in xs])\n",
        "    return dict(xs=xs, ys=ys, ll_best=ll_best)"
      ],
      "execution_count": 0,
      "outputs": []
    },
    {
      "cell_type": "code",
      "metadata": {
        "id": "lpFflZ7q_CNT",
        "colab_type": "code",
        "colab": {}
      },
      "source": [
        "def toymc(do_ll_check=False):\n",
        "    # simulate background only data\n",
        "    d = lf.simulate(er_rate_multiplier=er_rate_true,\n",
        "                    wimp_rate_multiplier=0.)\n",
        "    lf.set_data(d)\n",
        "\n",
        "    guess = dict(er_rate_multiplier=0.9,\n",
        "                 wimp_rate_multiplier=0.1)\n",
        "\n",
        "    # Determine the global best fit\n",
        "    bf = lf.bestfit(guess=guess, llr_tolerance=0.0005)\n",
        "    ll_best = lf(**bf)\n",
        "\n",
        "    ul_guess = bf.copy()\n",
        "    wrm_guess = max(1.5, 3 * bf['wimp_rate_multiplier'])\n",
        "    ul_guess['wimp_rate_multiplier'] = wrm_guess\n",
        "\n",
        "    def t_stat(wimp_rate_multiplier):\n",
        "        return -2 * (lf(er_rate_multiplier=bf['er_rate_multiplier'],\n",
        "                        wimp_rate_multiplier=wimp_rate_multiplier) - ll_best)\n",
        "\n",
        "    while t_stat(wrm_guess) < crit_val:\n",
        "        wrm_guess += 0.5\n",
        "        print(f'increasing ul_guess to {wrm_guess}')\n",
        "    ul_guess['wimp_rate_multiplier'] = wrm_guess\n",
        "\n",
        "    ul = lf.one_parameter_interval('wimp_rate_multiplier',\n",
        "                                   bestfit=bf,\n",
        "                                   guess=ul_guess,\n",
        "                                   llr_tolerance=0.0005)\n",
        "    check = dict()\n",
        "    if do_ll_check:\n",
        "        check = ll_check(lf, bf, ll_best=ll_best)\n",
        "    \n",
        "    return {**bf, **check,\n",
        "            'ul':ul,\n",
        "            'ul_guess': ul_guess['wimp_rate_multiplier']}"
      ],
      "execution_count": 0,
      "outputs": []
    },
    {
      "cell_type": "code",
      "metadata": {
        "id": "vxjzPktvqXCS",
        "colab_type": "code",
        "colab": {}
      },
      "source": [
        "%%time\n",
        "res = toymc(do_ll_check=True)\n",
        "print(f'bestfit wimp_rate {res[\"wimp_rate_multiplier\"]}, UL {res[\"ul\"]}')"
      ],
      "execution_count": 0,
      "outputs": []
    },
    {
      "cell_type": "code",
      "metadata": {
        "id": "QHEEiWrbna3_",
        "colab_type": "code",
        "colab": {}
      },
      "source": [
        "toys = np.array([toymc(do_ll_check=True) for _ in tqdm(range(10))])"
      ],
      "execution_count": 0,
      "outputs": []
    },
    {
      "cell_type": "code",
      "metadata": {
        "id": "lteNPqFhQAIo",
        "colab_type": "code",
        "colab": {}
      },
      "source": [
        "from collections import defaultdict\n",
        "d = defaultdict(list)\n",
        "for toy in toys:\n",
        "    for k, v in toy.items():\n",
        "        d[k].append(v)\n",
        "toys_df = pd.DataFrame(d)"
      ],
      "execution_count": 0,
      "outputs": []
    },
    {
      "cell_type": "code",
      "metadata": {
        "id": "mRRFGAdpq8iY",
        "colab_type": "code",
        "colab": {}
      },
      "source": [
        "toys_df.to_pickle('toys.pkl')"
      ],
      "execution_count": 0,
      "outputs": []
    },
    {
      "cell_type": "code",
      "metadata": {
        "id": "RVE_wBo2tL0r",
        "colab_type": "code",
        "colab": {}
      },
      "source": [
        "#toys_df = pd.read_pickle('toys.pkl')"
      ],
      "execution_count": 0,
      "outputs": []
    },
    {
      "cell_type": "markdown",
      "metadata": {
        "id": "Tg3UtjyTgJeN",
        "colab_type": "text"
      },
      "source": [
        "# Results"
      ]
    },
    {
      "cell_type": "code",
      "metadata": {
        "id": "jm3IwMvlHWbe",
        "colab_type": "code",
        "colab": {}
      },
      "source": [
        "toys_df"
      ],
      "execution_count": 0,
      "outputs": []
    },
    {
      "cell_type": "code",
      "metadata": {
        "id": "aCuZqOEYhey4",
        "colab_type": "code",
        "colab": {}
      },
      "source": [
        "plt.scatter(toys_df['wimp_rate_multiplier'], toys_df['er_rate_multiplier'])\n",
        "plt.axhline(er_rate_true, color='r', linestyle='--')\n",
        "plt.axvline(0., color='r', linestyle='--')\n",
        "plt.xlabel('wimp_rate_multiplier')\n",
        "plt.ylabel('er_rate_multiplier')\n",
        "plt.show()"
      ],
      "execution_count": 0,
      "outputs": []
    },
    {
      "cell_type": "code",
      "metadata": {
        "id": "LuHEJBEFLyUV",
        "colab_type": "code",
        "colab": {}
      },
      "source": [
        "np.min(toys_df['ul']), np.median(toys_df['ul']), np.max(toys_df['ul'])"
      ],
      "execution_count": 0,
      "outputs": []
    },
    {
      "cell_type": "code",
      "metadata": {
        "id": "siKI3dEMK_43",
        "colab_type": "code",
        "colab": {}
      },
      "source": [
        "plt.hist(np.log10(toys_df['ul']), bins=500, histtype='step')\n",
        "plt.xlim(-2, 2)\n",
        "plt.show()"
      ],
      "execution_count": 0,
      "outputs": []
    },
    {
      "cell_type": "markdown",
      "metadata": {
        "id": "qmdfbECWcXCy",
        "colab_type": "text"
      },
      "source": [
        "# Check lnL parabola"
      ]
    },
    {
      "cell_type": "code",
      "metadata": {
        "id": "OnnuUodcu3Wi",
        "colab_type": "code",
        "colab": {}
      },
      "source": [
        "params = {'legend.fontsize': 'x-large',\n",
        "          'figure.figsize': (9, 6),\n",
        "         'axes.labelsize': 'x-large',\n",
        "         'axes.titlesize':'x-large',\n",
        "         'xtick.labelsize':'x-large',\n",
        "         'ytick.labelsize':'x-large'}\n",
        "plt.rcParams.update(params)"
      ],
      "execution_count": 0,
      "outputs": []
    },
    {
      "cell_type": "code",
      "metadata": {
        "id": "YafNNWe6sDh5",
        "colab_type": "code",
        "colab": {}
      },
      "source": [
        "def ll_plot(data, title=\"\"):\n",
        "    xs = data['xs']\n",
        "    ys = data['ys']\n",
        "    ll_best = data['ll_best']\n",
        "    ul = data['ul']\n",
        "    wimp_rm = data['wimp_rate_multiplier']\n",
        "    er_rm = data['er_rate_multiplier']\n",
        "    ul_guess = data['ul_guess']\n",
        "\n",
        "    plt.figure()\n",
        "    plt.plot(xs, -2*(ys-ll_best), label=r'$2\\ln\\mathcal{L}_{best} -2\\ln\\mathcal{L}(\\theta)$')\n",
        "    plt.plot(xs, (-2*(ys-ll_best)-crit_val)**2, label=r'$(2\\ln\\mathcal{L}_{best} -2\\ln\\mathcal{L}(\\theta) - v_{crit})^2$')\n",
        "\n",
        "    plt.axhline(0, color='k')\n",
        "    plt.axhline(crit_val, color='red', label=r'$v_{crit}$')\n",
        "\n",
        "    plt.axvline(wimp_rm, color='k', linestyle='--', label=r'$\\theta_{best}$')\n",
        "    plt.axvline(ul, color='g', linestyle='--', label=r'$\\theta_{UL}$')\n",
        "    plt.axvline(ul_guess, color='magenta', linestyle='--', label=r'$\\theta_{start}$')\n",
        "\n",
        "    plt.ylim(-1, 8)\n",
        "    plt.xlim(0.0, 3.5)\n",
        "    plt.xlabel('wimp_rate_multiplier')\n",
        "    plt.legend(loc='upper left')\n",
        "    plt.title(title)\n",
        "    plt.show()"
      ],
      "execution_count": 0,
      "outputs": []
    },
    {
      "cell_type": "code",
      "metadata": {
        "id": "UR9mCmfIZDTD",
        "colab_type": "code",
        "colab": {}
      },
      "source": [
        "for idx, toy in enumerate(toys):\n",
        "    ll_plot(toy, title=f'Toy #{idx}')"
      ],
      "execution_count": 0,
      "outputs": []
    }
  ]
}