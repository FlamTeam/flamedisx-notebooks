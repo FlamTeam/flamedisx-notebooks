{
 "cells": [
  {
   "cell_type": "markdown",
   "metadata": {
    "colab_type": "text",
    "id": "lsz8CE2Qlta2"
   },
   "source": [
    "# ER / NR discrimination test"
   ]
  },
  {
   "cell_type": "code",
   "execution_count": null,
   "metadata": {
    "colab": {
     "base_uri": "https://localhost:8080/",
     "height": 86
    },
    "colab_type": "code",
    "id": "XuVS7q57lta8",
    "outputId": "1375f3b0-bde1-4ddc-e539-3354230fda75"
   },
   "outputs": [],
   "source": [
    "!wget -nc https://raw.githubusercontent.com/FlamTeam/flamedisx-notebooks/master/_if_on_colab_setup_flamedisx.ipynb\n",
    "BRANCH=\"master\"  # git branch to use (only for Colab)\n",
    "%run _if_on_colab_setup_flamedisx.ipynb"
   ]
  },
  {
   "cell_type": "code",
   "execution_count": null,
   "metadata": {
    "colab": {
     "base_uri": "https://localhost:8080/",
     "height": 34
    },
    "colab_type": "code",
    "id": "kAtsuykGltbI",
    "outputId": "36adffc6-076f-47be-d39c-ecb32939683e"
   },
   "outputs": [],
   "source": [
    "import gzip\n",
    "import pickle\n",
    "\n",
    "import matplotlib\n",
    "import matplotlib.pyplot as plt\n",
    "%matplotlib inline\n",
    "\n",
    "from multihist import Hist1d, Histdd\n",
    "import numpy as np\n",
    "from scipy import stats\n",
    "import tensorflow as tf\n",
    "from tqdm import tqdm\n",
    "\n",
    "import flamedisx as fd\n",
    "\n",
    "have_gpu = len(tf.config.list_physical_devices('GPU')) > 0\n",
    "print(f\"Running tensorflow {tf.__version__}, GPU {'active' if have_gpu else 'NOT ACTIVE!'}\")"
   ]
  },
  {
   "cell_type": "markdown",
   "metadata": {
    "colab_type": "text",
    "id": "TDCTxQM-ltbP"
   },
   "source": [
    "## Initialization"
   ]
  },
  {
   "cell_type": "code",
   "execution_count": null,
   "metadata": {
    "colab": {
     "base_uri": "https://localhost:8080/",
     "height": 300
    },
    "colab_type": "code",
    "id": "kXuIGV-lhXYy",
    "outputId": "79186484-a859-478d-d1dc-6074d648351f"
   },
   "outputs": [],
   "source": [
    "# Construct toy spatial distribution of neutron background source\n",
    "\n",
    "tau = 5  # cm  attenuation\n",
    "nbins = 100\n",
    "\n",
    "# Full dimensions of TPC (not FV!)\n",
    "tpc_radius = 47.9  # cm\n",
    "tpc_length = 97.6  # cm\n",
    "\n",
    "# XENON1T 1.3t FV\n",
    "fv_radius = 41.26  # cm\n",
    "fv_high = -9  # cm\n",
    "fv_low = -92.9  # cm\n",
    "\n",
    "r = np.linspace(0, fv_radius, nbins + 1)\n",
    "z = np.linspace(fv_low, fv_high, nbins + 1)\n",
    "theta = np.linspace(0, 2 * np.pi, nbins + 1)\n",
    "\n",
    "# Create test background histogram\n",
    "spatial_h = Histdd(bins=[r, theta, z], axis_names=['r', 'theta', 'z'])\n",
    "\n",
    "r_centers, theta_centers, z_centers = spatial_h.bin_centers()\n",
    "\n",
    "# compute r,z function\n",
    "rr, zz = np.meshgrid(r_centers, z_centers)\n",
    "\n",
    "def rate(r, z):\n",
    "    # Rate at position r,z in wrt full TPC\n",
    "    r_edge = tpc_radius - r\n",
    "    z_edge_top = -z\n",
    "    z_edge_bot =  tpc_length + z\n",
    "\n",
    "    # Add a little z dependent tau to make dist more round\n",
    "    tau_edge = tau * (0.9 + ((2*z + tpc_length)/tpc_length)**2)\n",
    "\n",
    "    # Add constant component\n",
    "    c = 5e-3\n",
    "\n",
    "    return c + np.exp(-r_edge/tau_edge) + np.exp(-z_edge_top/tau) + np.exp(-z_edge_bot/tau)\n",
    "\n",
    "vv = rate(rr, zz)\n",
    "\n",
    "# Set each theta slice\n",
    "for idx in range(len(theta_centers)):\n",
    "    spatial_h.histogram[:,idx,:] = vv.T\n",
    "\n",
    "# Normalize\n",
    "spatial_h.histogram /= spatial_h.n\n",
    "# Compute bin volumes for cylindrical coords (r dr dtheta)\n",
    "bin_volumes = spatial_h.bin_volumes() * r_centers[:, np.newaxis, np.newaxis]\n",
    "spatial_h.histogram *= bin_volumes\n",
    "\n",
    "sample = spatial_h.get_random(1_000_000)\n",
    "\n",
    "test_h = Histdd(sample.T[0]**2, sample.T[2], bins=100, axis_names=['r2', 'z'])\n",
    "test_h.plot(log_scale=True, cmap='jet', log_scale_vmin=1e-1)\n",
    "plt.xlim(0, tpc_radius**2)\n",
    "plt.ylim(-tpc_length, 0)\n",
    "plt.plot()"
   ]
  },
  {
   "cell_type": "code",
   "execution_count": null,
   "metadata": {
    "colab": {},
    "colab_type": "code",
    "id": "wRir9cNqXWW5"
   },
   "outputs": [],
   "source": [
    "# Load energy spectrum for neutron background, use up to 50 keV\n",
    "import pandas as pd\n",
    "radiogenics = pd.read_csv(\"radiogenic_spectrum.csv\", names=['energy', 'rate'])\n",
    "radiogenics = radiogenics[radiogenics['energy'] < 50]"
   ]
  },
  {
   "cell_type": "code",
   "execution_count": null,
   "metadata": {
    "colab": {},
    "colab_type": "code",
    "id": "Msxgll3DltbR"
   },
   "outputs": [],
   "source": [
    "class LowMassWIMPSource(fd.x1t_sr0.SR0WIMPSource):\n",
    "    fv_radius = fv_radius\n",
    "    fv_high = fv_high\n",
    "    fv_low = fv_low\n",
    "    mw = 30  # GeV\n",
    "    pretend_wimps_dont_modulate = True\n",
    "    \n",
    "    @staticmethod\n",
    "    def photon_detection_eff(s1_relative_ly,\n",
    "                             mean_eff=0.142 / (1 + 0.219)):\n",
    "        # Try uniform response\n",
    "        return mean_eff # * s1_relative_ly\n",
    "\n",
    "class LowMassWIMPModulationSource(LowMassWIMPSource):\n",
    "    pretend_wimps_dont_modulate = False\n",
    "\n",
    "class LowEnergyERSource(fd.x1t_sr0.SR0ERSource):\n",
    "    fv_radius = fv_radius\n",
    "    fv_high = fv_high\n",
    "    fv_low = fv_low\n",
    "    def _single_spectrum(self):\n",
    "        \"\"\"Return (energies in keV, rate at these energies),\n",
    "        \"\"\"\n",
    "        return (tf.dtypes.cast(\n",
    "                    tf.linspace(0., 10., 1000),  # 10 keV for 1 TeV WIMP\n",
    "                    dtype=fd.float_type()),\n",
    "                tf.ones(1000, dtype=fd.float_type()))\n",
    "\n",
    "    @staticmethod\n",
    "    def photon_detection_eff(s1_relative_ly,\n",
    "                             mean_eff=0.142 / (1 + 0.219)):\n",
    "        # Try uniform response\n",
    "        return mean_eff # * s1_relative_ly\n",
    "\n",
    "#class NRSpectrum(fd.x1t_sr0.SR0WIMPSource):\n",
    "#    # Make a time-averaged 200 GeV WIMP spectrum\n",
    "#    mw = 10  # GeV\n",
    "#    pretend_wimps_dont_modulate = True\n",
    "#\n",
    "#nr_spectrum_hist = NRSpectrum().energy_hist\n",
    "\n",
    "class NRBackgroundSource(fd.x1t_sr0.SR0NRSource):\n",
    "    # The NR background is not uniform in space,\n",
    "    # use spatial_rate_hist to model this\n",
    "    spatial_rate_hist = spatial_h\n",
    "    spatial_rate_bin_volumes = bin_volumes\n",
    "    # neutron energy spectrum\n",
    "    def _single_spectrum(self):\n",
    "        \"\"\"Return (energies in keV, rate at these energies),\n",
    "        \"\"\"\n",
    "        #return (tf.dtypes.cast(nr_spectrum_hist.bin_centers()[1],\n",
    "        #                       dtype=fd.float_type()),\n",
    "        #        tf.dtypes.cast(nr_spectrum_hist.histogram[0],\n",
    "        #                       dtype=fd.float_type()))\n",
    "        return (tf.dtypes.cast(radiogenics['energy'],\n",
    "                               dtype=fd.float_type()),\n",
    "                tf.dtypes.cast(radiogenics['rate'] * 1000 * 365.25, # ev/tonne/year\n",
    "                               dtype=fd.float_type()))\n",
    "\n",
    "    @staticmethod\n",
    "    def photon_detection_eff(s1_relative_ly,\n",
    "                             mean_eff=0.142 / (1 + 0.219)):\n",
    "        # Try uniform response\n",
    "        return mean_eff # * s1_relative_ly\n",
    "\n",
    "\n",
    "def add_corrected_signals(d):\n",
    "    d['cs1'] = (0.142 / (1 + 0.219)) * d['s1'] / (\n",
    "        d['photon_detection_eff'] * d['photon_gain_mean'])\n",
    "    d['cs2'] = (11.4 / (1 - 0.63) / 0.96) * d['s2'] / (\n",
    "        d['electron_detection_eff'] * d['electron_gain_mean'])"
   ]
  },
  {
   "cell_type": "code",
   "execution_count": null,
   "metadata": {
    "colab": {
     "base_uri": "https://localhost:8080/",
     "height": 282
    },
    "colab_type": "code",
    "id": "1yzT0VDnwQNG",
    "outputId": "36577222-b5e3-4b94-8ea4-25042425aa9a"
   },
   "outputs": [],
   "source": [
    "dsets = dict(\n",
    "    er=dict(source_class=LowEnergyERSource),\n",
    "    nr=dict(source_class=LowMassWIMPSource),\n",
    "    nr_bkg=dict(source_class=NRBackgroundSource),\n",
    "    nr_mod=dict(source_class=LowMassWIMPModulationSource))\n",
    "\n",
    "for k, v in dsets.items():\n",
    "    dsets[k]['source'] = v['source_class'](\n",
    "        batch_size=300 if have_gpu else 10, \n",
    "        max_sigma=5)\n",
    "    \n",
    "nr_conditions = ['nr', 'nr_mod']\n",
    "\n",
    "for nrc in nr_conditions:\n",
    "    dsets[nrc]['source'].energy_hist.sum(axis=1).plot(label=nrc)\n",
    "plt.legend()"
   ]
  },
  {
   "cell_type": "markdown",
   "metadata": {
    "colab_type": "text",
    "id": "uOiYkhtHqqdW"
   },
   "source": [
    "## Compute rate histograms"
   ]
  },
  {
   "cell_type": "code",
   "execution_count": null,
   "metadata": {
    "colab": {
     "base_uri": "https://localhost:8080/",
     "height": 1000
    },
    "colab_type": "code",
    "id": "Xc1L9n2Ultbk",
    "outputId": "fe8c054b-9695-4cfe-a8f9-3c5f255856f7"
   },
   "outputs": [],
   "source": [
    "def std_axes():\n",
    "    plt.yscale('log')\n",
    "    plt.xlabel(\"cS1 [PE]\")\n",
    "    plt.ylabel(\"cS2 [PE]\")\n",
    "\n",
    "\n",
    "# Restore histograms\n",
    "#fn = 'hists_1e6_20200205_15GeV.pkl'\n",
    "#fn = 'hists_1e6_20200206_200GeV.pkl'\n",
    "#fn = 'hists_1e6_20200207_30GeV.pkl'\n",
    "#with open(fn, mode='rb') as f:\n",
    "#    hists = pickle.load(f)\n",
    "#    for dname, q in dsets.items():\n",
    "#        if dname not in hists:\n",
    "#            continue\n",
    "#        q['mh'] = hists[dname]\n",
    "\n",
    "remake_hists = True\n",
    "\n",
    "for dname, q in dsets.items():\n",
    "\n",
    "    if remake_hists or not 'mh' in q:\n",
    "        print(f\"Building histogram for {dname}\")\n",
    "        \n",
    "        mh = Histdd(bins=(\n",
    "            np.linspace(0, 80, 81 + 1),\n",
    "            np.geomspace(10**1.7 / (1 - 0.63),\n",
    "                         10**3.9 / (1 - 0.63), \n",
    "                         70)))\n",
    "        \n",
    "        n_batches = 100 if dname == 'er' else 40\n",
    "        trials_per_batch = int(1e6)\n",
    "\n",
    "        for _ in tqdm(range(n_batches)):\n",
    "            d = q['source'].simulate(trials_per_batch)\n",
    "            add_corrected_signals(d)\n",
    "            mh.add(d['cs1'], d['cs2'])\n",
    "        \n",
    "        # Convert to PDF\n",
    "        mh /= mh.bin_volumes() * trials_per_batch * n_batches\n",
    "\n",
    "        # Multiply by total expected event rate\n",
    "        # (from the source, i.e. before correcting for efficiencies)\n",
    "        mh *= q['source'].mu_before_efficiencies()\n",
    "\n",
    "        q['mh'] = mh\n",
    "\n",
    "    q['events_per_bin'] = q['mh'] * q['mh'].bin_volumes()\n",
    "    q['mh'].plot(cblabel='rate * PDF')\n",
    "    plt.title(f\"{dname}: {q['events_per_bin'].n:.02f} expected events\")\n",
    "    std_axes()\n",
    "\n",
    "    plt.show()"
   ]
  },
  {
   "cell_type": "code",
   "execution_count": null,
   "metadata": {
    "colab": {},
    "colab_type": "code",
    "id": "vL5V5W6J-poe"
   },
   "outputs": [],
   "source": [
    "# # If you save histograms, remember to download them!!\n",
    "# with open('hists_1e6_20200205_15GeV.pkl', mode='wb') as f:\n",
    "#     pickle.dump({\n",
    "#         k: v['mh'] \n",
    "#         for k, v in dsets.items()}, f)"
   ]
  },
  {
   "cell_type": "markdown",
   "metadata": {
    "colab_type": "text",
    "id": "8VG88gt7ltbq"
   },
   "source": [
    "  * Make sure none of the models are 'cut off' in cS1 / cS2, since cS1 and cS2 cut acceptances are not currently accounted for in our likelihood (unlike S1 or S2 cuts). This is not a limitation of flamedisx: the correction value is known for each event since the correction depends only on observables, so ultimately a cS1 cut is just a space-dependent S1 cut (which flamedisx fully supports).\n",
    "  * The ROC curves will depend on the extent of the ER spectrum. If you include more high-energy ER events that can be discriminated anyway, the ER leakage in any likelihood will go down. The key figure of merit we are trying to derive here, the decrease in ER leakage at ~50 % NR acceptance when switching to the full likelihood, should be unaffected by this."
   ]
  },
  {
   "cell_type": "markdown",
   "metadata": {
    "colab_type": "text",
    "id": "i1xvN-dZltbs"
   },
   "source": [
    "## Histogram-based discrimination"
   ]
  },
  {
   "cell_type": "code",
   "execution_count": null,
   "metadata": {
    "colab": {
     "base_uri": "https://localhost:8080/",
     "height": 573
    },
    "colab_type": "code",
    "id": "zIRb00atjD49",
    "outputId": "8bbba2e7-06b6-470b-f094-2722b3bcd1d4"
   },
   "outputs": [],
   "source": [
    "for dname in nr_conditions:\n",
    "    q = dsets[dname]\n",
    "    q['signal_background_ratio'] = ratio = \\\n",
    "        (dsets['er']['mh'] + 1e-20)/(q['mh'] + 1e-20)\n",
    "    q['histogram_ordering'] = np.argsort(ratio.histogram.ravel())\n",
    "\n",
    "    ratio.plot(log_scale=True, cmap=plt.cm.seismic, \n",
    "           vmin=1e-4, vmax=1e4, cblabel='ER / NR density ratio')\n",
    "    std_axes()\n",
    "    plt.title(f\"er vs {dname}\")\n",
    "    plt.show()"
   ]
  },
  {
   "cell_type": "code",
   "execution_count": null,
   "metadata": {
    "colab": {
     "base_uri": "https://localhost:8080/",
     "height": 573
    },
    "colab_type": "code",
    "id": "vVjWl8DsnEMi",
    "outputId": "81e466ca-7531-46be-e6c6-4289d76b4fbb"
   },
   "outputs": [],
   "source": [
    "# For NR bkg\n",
    "for dname in nr_conditions:\n",
    "    q = dsets[dname]\n",
    "    q['signal_background_ratio_nrbkg'] = ratio = \\\n",
    "        (dsets['nr_bkg']['mh'] + 1e-20)/(q['mh'] + 1e-20)\n",
    "    q['histogram_ordering_nrbkg'] = np.argsort(ratio.histogram.ravel())\n",
    "\n",
    "    ratio.plot(log_scale=True, cmap=plt.cm.seismic, \n",
    "           vmin=1e-4, vmax=1e4, cblabel='NRBKG / NR density ratio')\n",
    "    std_axes()\n",
    "    plt.title(f\"nrbkg vs {dname}\")\n",
    "    plt.show()"
   ]
  },
  {
   "cell_type": "code",
   "execution_count": null,
   "metadata": {},
   "outputs": [],
   "source": [
    "# For NR WIMP vs Modulating WIMP\n",
    "for dname in nr_conditions:\n",
    "    q = dsets[dname]\n",
    "    q['signal_background_ratio_mod'] = ratio = \\\n",
    "        (dsets['nr']['mh'] + 1e-20)/(q['mh'] + 1e-20)\n",
    "    q['histogram_ordering_mod'] = np.argsort(ratio.histogram.ravel())\n",
    "\n",
    "    ratio.plot(log_scale=True, cmap=plt.cm.seismic, \n",
    "           vmin=1e-4, vmax=1e4, cblabel='non-mod / mod WIMP density ratio')\n",
    "    std_axes()\n",
    "    plt.title(f\"non-mod vs {dname}\")\n",
    "    plt.show()"
   ]
  },
  {
   "cell_type": "code",
   "execution_count": null,
   "metadata": {
    "colab": {
     "base_uri": "https://localhost:8080/",
     "height": 304
    },
    "colab_type": "code",
    "id": "m6cvL0XaxrHA",
    "outputId": "ade4ae9b-acb1-45c2-ffad-95165f6cd0d6"
   },
   "outputs": [],
   "source": [
    "plt.figure()\n",
    "plt.gcf().patch.set_facecolor('white')\n",
    "\n",
    "def hist_to_cdf(hist, ordering):\n",
    "    return np.cumsum(hist.histogram.ravel()[ordering])/hist.n\n",
    "\n",
    "for dname in nr_conditions:\n",
    "    q = dsets[dname]\n",
    "    q['roc_from_histogram'] = (\n",
    "        hist_to_cdf(dsets['er']['events_per_bin'], q['histogram_ordering']),\n",
    "        hist_to_cdf(q['events_per_bin'], q['histogram_ordering']))\n",
    "\n",
    "    plt.plot(*q['roc_from_histogram'], label='er vs. ' + dname)\n",
    "\n",
    "    q['roc_from_histogram_nrbkg'] = (\n",
    "        hist_to_cdf(dsets['nr_bkg']['events_per_bin'], q['histogram_ordering_nrbkg']),\n",
    "        hist_to_cdf(q['events_per_bin'], q['histogram_ordering_nrbkg']))\n",
    "\n",
    "    plt.plot(*q['roc_from_histogram_nrbkg'], label='nr bkg vs. ' + dname)\n",
    "    \n",
    "    q['roc_from_histogram_mod'] = (\n",
    "        hist_to_cdf(dsets['nr']['events_per_bin'], q['histogram_ordering_mod']),\n",
    "        hist_to_cdf(q['events_per_bin'], q['histogram_ordering_mod']))\n",
    "\n",
    "    plt.plot(*q['roc_from_histogram_mod'], label='non-mod vs. ' + dname)\n",
    "\n",
    "plt.xscale('log')\n",
    "plt.legend(loc='best')\n",
    "plt.axhline(0.5, alpha=0.5, c='k', linewidth=0.5)\n",
    "\n",
    "plt.xlim(1e-4, 1)\n",
    "plt.xlabel(\"ER rejection\")\n",
    "\n",
    "plt.ylim(0, 1)\n",
    "plt.ylabel(\"NR acceptance\")\n",
    "plt.show()"
   ]
  },
  {
   "cell_type": "markdown",
   "metadata": {
    "colab_type": "text",
    "id": "NBTVqZtWzBG1"
   },
   "source": [
    "As expected, there is no difference between NR with and without modulation, since the 2D histogram does not see time."
   ]
  },
  {
   "cell_type": "markdown",
   "metadata": {
    "colab_type": "text",
    "id": "cc6yHQr3zFGY"
   },
   "source": [
    "## Flamedisx-based discrimination"
   ]
  },
  {
   "cell_type": "code",
   "execution_count": null,
   "metadata": {
    "colab": {
     "base_uri": "https://localhost:8080/",
     "height": 124
    },
    "colab_type": "code",
    "id": "wXInc439H0d3",
    "outputId": "5093b058-eb19-402c-bcef-07277b0186e7"
   },
   "outputs": [],
   "source": [
    "#from google.colab import drive\n",
    "#drive.mount('/content/drive')\n",
    "\n",
    "# Load earlier results: \n",
    "#fn = '/content/drive/My Drive/flamedisx_data/discstudy_20200204_1e6_maxsigma5_15GeV.pkl.gz'\n",
    "\n",
    "#fn = 'discstudy_20200205_1e6_maxsigma5_15GeV.pkl.gz'\n",
    "#fn = 'discstudy_20200206_1e6_maxsigma5_200GeV.pkl.gz'\n",
    "fn = 'discstudy_20200207_1e6_maxsigma5_30GeV.pkl.gz'\n",
    "with gzip.open(fn, mode='rb') as f:\n",
    "    q = pickle.load(f)\n",
    "    for k, v in q.items():\n",
    "        dsets[k]['data'] = v"
   ]
  },
  {
   "cell_type": "code",
   "execution_count": null,
   "metadata": {
    "colab": {},
    "colab_type": "code",
    "id": "-HtdsmoQwQN2"
   },
   "outputs": [],
   "source": [
    "remake_data = False\n",
    "n_trials_events = int(1e6) # if have_gpu else int(1e4)\n",
    "\n",
    "for dname, q in dsets.items():\n",
    "    # Get simulated data\n",
    "    if remake_data or 'data' not in q:\n",
    "        print(f\"Simulating data for {dname}\")\n",
    "        q['data'] = sim_data = q['source'].simulate(n_trials_events)\n",
    "        sim_data['event_time'] += int(5e9)  # Add 5 seconds\n",
    "        add_corrected_signals(sim_data)\n",
    "        \n",
    "        # Ensure cs1 and cs2 are in range of the histogram\n",
    "        # to avoid extrapolation in multihist's lookup.\n",
    "        # NB: we are assuming both histograms have the same binning here!\n",
    "        bes = q['mh'].bin_edges\n",
    "        mask = (\n",
    "            (bes[0][0] <= sim_data['cs1']) & (sim_data['cs1'] < bes[0][-1]) &\n",
    "            (bes[1][0] <= sim_data['cs2']) & (sim_data['cs2'] < bes[1][-1]))\n",
    "        print(f\"{dname}: Throwing out {100 * (~mask).sum() / len(sim_data):.2f}% of events\")\n",
    "        q['data'] = sim_data[mask].copy()\n",
    "    sim_data = q['data']\n",
    "    \n",
    "    # Compute differential rates (\"likelihoods\") for all models (\"sources\")\n",
    "    for likelihood_dsetname, likelihood_dset in dsets.items():\n",
    "        sim_data['l_mh_' + likelihood_dsetname] = likelihood_dset['mh'].lookup(\n",
    "            sim_data['cs1'], sim_data['cs2'])\n",
    "\n",
    "        key = 'l_full_' + likelihood_dsetname\n",
    "        if key not in sim_data:\n",
    "            print(f\"Computing likelihood of {dname} data under {likelihood_dsetname} model\")\n",
    "            likelihood_dset['source'].set_data(sim_data.copy())\n",
    "            sim_data[key] = likelihood_dset['source'].batched_differential_rate()\n",
    "        \n",
    "    # Compute ratios of differential rates (\"likelihood ratios\")\n",
    "    # for both histogram- and flamedisx based method.\n",
    "    for nrc in nr_conditions:\n",
    "        sim_data[f'lr_mh_{nrc}'] = sim_data['l_mh_er'] / sim_data[f'l_mh_{nrc}']\n",
    "        sim_data[f'lr_full_{nrc}'] = sim_data['l_full_er'] / sim_data[f'l_full_{nrc}']\n",
    "\n",
    "        sim_data[f'lr_mh_nr_{nrc}'] = sim_data['l_mh_nr_bkg'] / sim_data[f'l_mh_{nrc}']\n",
    "        sim_data[f'lr_full_nr_{nrc}'] = sim_data['l_full_nr_bkg'] / sim_data[f'l_full_{nrc}']\n",
    "\n",
    "    sim_data[f'lr_mh_mod'] = sim_data['l_mh_nr'] / sim_data[f'l_mh_nr_mod']\n",
    "    sim_data[f'lr_full_mod'] = sim_data['l_full_nr'] / sim_data[f'l_full_nr_mod']"
   ]
  },
  {
   "cell_type": "code",
   "execution_count": null,
   "metadata": {
    "colab": {},
    "colab_type": "code",
    "id": "P3pqYqc7yUMJ"
   },
   "outputs": [],
   "source": [
    "# Save results to gzipped pickle. Compression takes a while; download longer.\n",
    "# Don't forget to download it!!\n",
    "#with gzip.open('discstudy_20200205_1e6_maxsigma5_15GeV.pkl.gz', mode='wb') as f:\n",
    "#    pickle.dump({dname: q['data']\n",
    "#                 for dname, q in dsets.items()},\n",
    "#                f)"
   ]
  },
  {
   "cell_type": "markdown",
   "metadata": {
    "colab_type": "text",
    "id": "Ubzxw4Cjltcf"
   },
   "source": [
    "## Compare differential rates"
   ]
  },
  {
   "cell_type": "markdown",
   "metadata": {
    "colab_type": "text",
    "id": "2NcOSJiWltcg"
   },
   "source": [
    "Compare differential rates. There will be an offset because (cS1, cS2) and (S1, S2) have different ranges/means -- so the rates are differential with respect to different coordinates."
   ]
  },
  {
   "cell_type": "code",
   "execution_count": null,
   "metadata": {
    "colab": {
     "base_uri": "https://localhost:8080/",
     "height": 622
    },
    "colab_type": "code",
    "id": "4iJqI_ff3ZU7",
    "outputId": "14150b53-bbde-4231-9ea0-b6eb1a395c58"
   },
   "outputs": [],
   "source": [
    "f, axes = plt.subplots(2, 2, figsize=(12, 10))\n",
    "\n",
    "for dn_i, dname in enumerate(['er', 'nr']):\n",
    "    for lh_i, lh_name in enumerate(['er', 'nr']):\n",
    "        ax = axes[dn_i, lh_i]\n",
    "        plt.sca(ax)\n",
    "        \n",
    "        q = dsets[dname]['data']\n",
    "        y, x = q[f'l_full_{lh_name}'], q[f'l_mh_{lh_name}']\n",
    "\n",
    "        Histdd(x, y,\n",
    "               bins=(np.geomspace(1e-7, 1e-1, 100),\n",
    "                     np.geomspace(1e-7, 1e-1, 100))).plot(\n",
    "            log_scale=True, cblabel='Events/bin',\n",
    "            vmin=0.8, vmax=n_trials_events * 0.05)\n",
    "\n",
    "        plt.plot([1e-7, 1e-1], [1e-7, 1e-1], 'k-')\n",
    "        plt.yscale('log')\n",
    "        plt.xscale('log')\n",
    "        plt.xlabel(\"Histogram\")\n",
    "        plt.ylabel(\"Flamedisx\")\n",
    "        plt.ylim(1e-7, 1e-1)\n",
    "        plt.xlim(1e-7, 1e-1)\n",
    "        plt.title(f\"{dname.upper()} data, {lh_name.upper()} model\")\n",
    "        plt.gca().set_aspect(1)\n",
    "plt.show()"
   ]
  },
  {
   "cell_type": "code",
   "execution_count": null,
   "metadata": {
    "colab": {
     "base_uri": "https://localhost:8080/",
     "height": 622
    },
    "colab_type": "code",
    "id": "_Zh1j7N2kJp-",
    "outputId": "b9ef3b3b-0aef-4152-f749-8b480e0aede4"
   },
   "outputs": [],
   "source": [
    "f, axes = plt.subplots(2, 2, figsize=(12, 10))\n",
    "\n",
    "min_ll = 1e-7\n",
    "for dn_i, dname in enumerate(['nr_bkg', 'nr']):\n",
    "    for lh_i, lh_name in enumerate(['nr_bkg', 'nr']):\n",
    "        ax = axes[dn_i, lh_i]\n",
    "        plt.sca(ax)\n",
    "        \n",
    "        q = dsets[dname]['data']\n",
    "        y, x = q[f'l_full_{lh_name}'], q[f'l_mh_{lh_name}']\n",
    "\n",
    "        Histdd(x, y,\n",
    "               bins=(np.geomspace(min_ll, 1e-1, 100),\n",
    "                     np.geomspace(min_ll, 1e-1, 100))).plot(\n",
    "            log_scale=True, cblabel='Events/bin',\n",
    "            vmin=0.8, vmax=n_trials_events * 0.05)\n",
    "\n",
    "        plt.plot([min_ll, 1e-1], [min_ll, 1e-1], 'k-')\n",
    "        plt.yscale('log')\n",
    "        plt.xscale('log')\n",
    "        plt.xlabel(\"Histogram\")\n",
    "        plt.ylabel(\"Flamedisx\")\n",
    "        plt.ylim(min_ll, 1e-1)\n",
    "        plt.xlim(min_ll, 1e-1)\n",
    "        plt.title(f\"{dname.upper()} data, {lh_name.upper()} model\")\n",
    "        plt.gca().set_aspect(1)\n",
    "plt.show()"
   ]
  },
  {
   "cell_type": "code",
   "execution_count": null,
   "metadata": {
    "colab": {},
    "colab_type": "code",
    "id": "99KiYcYJltcn"
   },
   "outputs": [],
   "source": [
    "# # Zoom-in on the low-energy NR data\n",
    "# d = dsets['nr']['data']\n",
    "# dsets['er']['mh'].plot(log_scale=True, vmin=1e-6, vmax=1e-1, cmap=plt.cm.Blues, cblabel=\"Diffrate hist\")\n",
    "# plt.scatter(d['cs1'], d['cs2'], c=d['l_full_er'], s=0.1, \n",
    "#             vmax=1e-1, vmin=1e-6, norm=matplotlib.colors.LogNorm(), cmap=plt.cm.Reds)\n",
    "# plt.colorbar(label='Diffrate Flamedisx')\n",
    "# plt.xlim(0, 10)\n",
    "# plt.xlabel(\"cS1 [PE]\")\n",
    "# plt.ylim(0, 3e3)\n",
    "# plt.ylabel(\"cS2 [PE]\")"
   ]
  },
  {
   "cell_type": "code",
   "execution_count": null,
   "metadata": {
    "colab": {
     "base_uri": "https://localhost:8080/",
     "height": 1000
    },
    "colab_type": "code",
    "id": "ZFDXyao7rycZ",
    "outputId": "eb7a7224-8709-4c40-f4d2-abb116e38df2"
   },
   "outputs": [],
   "source": [
    "# Check spatial distribution of sources\n",
    "for dname in ['er', 'nr', 'nr_bkg', 'nr_mod']:\n",
    "    q = dsets[dname]['data']\n",
    "    print(len(q))\n",
    "    Histdd(q['r']**2, q['z'], bins=100, axis_names=['r2', 'z']).plot(log_scale=True)\n",
    "    plt.title(dname)\n",
    "    plt.xlim(0, tpc_radius**2)\n",
    "    plt.ylim(-tpc_length, 0)\n",
    "    plt.show()"
   ]
  },
  {
   "cell_type": "markdown",
   "metadata": {
    "colab_type": "text",
    "id": "vGNYu8vvltct"
   },
   "source": [
    "## Compare event-by-event discrimination"
   ]
  },
  {
   "cell_type": "code",
   "execution_count": null,
   "metadata": {
    "colab": {},
    "colab_type": "code",
    "id": "DyaxFw_4ltcu"
   },
   "outputs": [],
   "source": [
    "# d_er = dsets['er']['data']\n",
    "# d_nr = dsets['nr']['data']\n",
    "\n",
    "# for d, alt, cmap in [#(d_er, d_nr, plt.cm.viridis),\n",
    "#                      (d_nr, d_er, plt.cm.magma)\n",
    "#                     ]:\n",
    "#     # For each event in d, find what fraction of the alt data is more NR-like than it\n",
    "#     # (under both likelihoods)\n",
    "#     f_above = {\n",
    "#         lt: np.searchsorted(np.sort(alt[f'lr_{lt}_nr'].values), \n",
    "#                             d[f'lr_{lt}_nr'].values).astype(np.float) / len(alt)\n",
    "#         for lt in ('mh', 'full')}\n",
    "\n",
    "#     # Get ratio. \n",
    "#     #   0 = mh sees the event as more NR-like than any of the alt data\n",
    "#     #   > 1: mh is worse at discriminating, < 1 mh is better at discriminating\n",
    "#     ratio = f_above['mh'] / f_above['full']\n",
    "#     mask = np.isfinite(ratio)\n",
    "    \n",
    "#     xkey, ykey = 's1', 'z'\n",
    "    \n",
    "#     plt.scatter(d[xkey][mask], d[ykey][mask], c=ratio[mask], #cmap=cmap,\n",
    "#                 vmin=0, vmax=2, cmap=plt.cm.seismic,\n",
    "#                 s=0.2,)\n",
    "#     plt.colorbar()\n",
    "#     plt.scatter(d[xkey][~mask], d[ykey][~mask], c='g',\n",
    "#                 s=0.2, alpha=0.2)\n",
    "    \n",
    "#     plt.xlabel(xkey)\n",
    "#     #plt.ylim(0, 700)\n",
    "#     plt.ylabel(ykey)\n",
    "#     plt.show()"
   ]
  },
  {
   "cell_type": "markdown",
   "metadata": {
    "colab_type": "text",
    "id": "LEcKKegvltcz"
   },
   "source": [
    "For these NR events, red events have a more NR-like ER/NR likelihood ratio in flamedisx, and blue ones in the histogram likelihood. For green events the ratio of the two likelihood ratios is not a finite number."
   ]
  },
  {
   "cell_type": "markdown",
   "metadata": {
    "colab_type": "text",
    "id": "KEA9K_-Bltc5"
   },
   "source": [
    "Log likelihood ratio histograms for ER and NR data under both likelihoods below. Note many events are at the edges for the histogram likelihood; for these either the NR or ER histogram was zero, and we clip the likelihood ratio."
   ]
  },
  {
   "cell_type": "code",
   "execution_count": null,
   "metadata": {
    "colab": {
     "base_uri": "https://localhost:8080/",
     "height": 374
    },
    "colab_type": "code",
    "id": "fVSlcJNzOYRU",
    "outputId": "556e63e1-5f1c-40ca-b47c-35bd7d1dfa24"
   },
   "outputs": [],
   "source": [
    "plt.figure()\n",
    "plt.gcf().patch.set_facecolor('white')\n",
    "for lt, nrc, color in [['mh', 'nr', 'b'], ['full', 'nr', 'g'], ['full', 'nr_mod', 'purple']]:\n",
    "    hists = dict()\n",
    "    cis = dict()\n",
    "    for dname, q in dsets.items():\n",
    "        if dname not in ('er', nrc):\n",
    "            continue\n",
    "\n",
    "        d = q['data'][f'lr_{lt}_{nrc}']\n",
    "        print(f\"Found {np.sum(np.isnan(d))} NaNs for {lt}:{dname}\")\n",
    "        clip_exp = 21\n",
    "        hists[dname] = Hist1d(\n",
    "            np.log10(d.clip(10**-clip_exp, 10**clip_exp).values.astype('float')),\n",
    "            bins=np.linspace(-clip_exp, clip_exp + 0.1, 140))\n",
    "        hists[dname].plot(label=f\"{dname}{lt}: {hists[dname].n}\")\n",
    "plt.yscale('log')\n",
    "plt.legend()\n",
    "\n",
    "plt.show()"
   ]
  },
  {
   "cell_type": "markdown",
   "metadata": {
    "colab_type": "text",
    "id": "zxU8HT6IltdC"
   },
   "source": [
    "## ROC Curves"
   ]
  },
  {
   "cell_type": "code",
   "execution_count": null,
   "metadata": {
    "colab": {},
    "colab_type": "code",
    "id": "hHGJKjNGnrpf"
   },
   "outputs": [],
   "source": [
    "def binom_interval(success, total, conf_level=0.95):\n",
    "    \"\"\"Confidence interval on binomial - using Jeffreys interval\n",
    "    Code stolen from https://gist.github.com/paulgb/6627336\n",
    "    Agrees with http://statpages.info/confint.html for binom_interval(1, 10)\n",
    "    \"\"\"\n",
    "    # TODO: special case for success = 0 or = total? see wikipedia\n",
    "    quantile = (1 - conf_level) / 2.\n",
    "    lower = stats.beta.ppf(quantile, success, total - success + 1)\n",
    "    upper = stats.beta.ppf(1 - quantile, success + 1, total - success)\n",
    "    \n",
    "    # If something went wrong with a limit calculation, report the trivial limit\n",
    "    lower[np.isnan(lower)] = 0\n",
    "    upper[np.isnan(upper)] = 1\n",
    "    return lower, upper\n",
    "\n",
    "def make_roc(key, dnames, nbins=10_000):\n",
    "    hists = dict()\n",
    "    cdfs = dict()\n",
    "    cdf_intervals = dict()\n",
    "    for dname in dnames:\n",
    "        q = dsets[dname]\n",
    "        hists[dname] = Hist1d(\n",
    "            np.log10(q['data'][key].clip(1e-20, 1e20)),\n",
    "            bins=np.linspace(-21, 21, nbins))\n",
    "\n",
    "        cdfs[dname] = hists[dname].cumulative_density\n",
    "        cdf_intervals[dname] = np.stack(binom_interval(\n",
    "            np.cumsum(hists[dname].histogram),\n",
    "            hists[dname].n, \n",
    "            conf_level=.68))\n",
    "\n",
    "    return dict(hists=hists, cdfs=cdfs, cdf_intervals=cdf_intervals)\n",
    "\n",
    "# 'regular (wrt ER)': lr_mh_nr, lr_full_nr, lr_full_nr_mod\n",
    "# dnames 'er' 'nr'\n",
    "rocs = dict()\n",
    "for lt, nrc in [['mh', 'nr'], ['full', 'nr'], ['full', 'nr_mod']]:\n",
    "    key = f'lr_{lt}_{nrc}'\n",
    "    rocs[(lt, nrc)] = make_roc(key, dnames=['er', 'nr'])\n",
    "\n",
    "# 'wrt nr bkg': lr_mh_nr, lr_full_nr, lr_full_nr_mod\n",
    "# dnames 'nr_bkg' 'nr'\n",
    "rocs_nrbkg = dict()\n",
    "for lt, nrc in [['mh', 'nr'], ['full', 'nr'], ['full', 'nr_mod']]:\n",
    "    key = f'lr_{lt}_nr_{nrc}'\n",
    "    rocs_nrbkg[(lt, nrc)] = make_roc(key, dnames=['nr_bkg', 'nr'])\n",
    "\n",
    "# 'wrt fd nr': lr_full_nr, lr_full_nr_mod\n",
    "# dnames 'nr' 'nr_mod'\n",
    "rocs_mod = dict()\n",
    "for lt, nrc in [['mh', 'mod'], ['full', 'mod']]:\n",
    "    key = f'lr_{lt}_{nrc}'\n",
    "    rocs_mod[(lt, nrc)] = make_roc(key, dnames=['nr', 'nr_mod'], nbins=100_000)\n",
    "\n",
    "roc_labels = {('mh', 'nr'): \"2d Hist (sampled)\",\n",
    "              ('full', 'nr'): \"Flamedisx\",\n",
    "              ('full', 'nr_mod'): \"Fd modulation\",\n",
    "              ('mh', 'mod'): \"2d Hist (sampled)\",\n",
    "              ('full', 'mod'): \"Fd modulation\",\n",
    "             }\n",
    "roc_colors = {('mh', 'nr'): 'b',\n",
    "              ('full', 'nr'): 'g',\n",
    "              ('full', 'nr_mod'): 'darkorange',\n",
    "              ('mh', 'mod'): 'b',\n",
    "              ('full', 'mod'): 'darkorange',\n",
    "             }"
   ]
  },
  {
   "cell_type": "code",
   "execution_count": null,
   "metadata": {
    "colab": {
     "base_uri": "https://localhost:8080/",
     "height": 577
    },
    "colab_type": "code",
    "id": "79fwHbSs5oxX",
    "outputId": "9a67ef92-d454-46fa-97ca-c14e0181bce6"
   },
   "outputs": [],
   "source": [
    "for rn, roc in rocs.items():\n",
    "    x, y = roc['cdfs']['er'], roc['cdfs']['nr']\n",
    "    plt.errorbar(x, y,\n",
    "                 xerr=np.abs(roc['cdf_intervals']['er'] - x),\n",
    "                 yerr=np.abs(roc['cdf_intervals']['nr'] - y),\n",
    "                 linestyle='',\n",
    "                 color=roc_colors[rn],\n",
    "                 label=roc_labels[rn])\n",
    "plt.plot(*dsets['nr']['roc_from_histogram'], \n",
    "         label='2D Hist ($N = \\infty$)',\n",
    "         color='k', linestyle='--')\n",
    "     \n",
    "plt.xlabel(\"ER (flat 0-10 keV) background\")\n",
    "plt.ylabel(f\"{LowMassWIMPSource.mw} GeV/c^2 WIMP acceptance\")\n",
    "plt.xscale('log')\n",
    "plt.xlim(1e-5, 1e-1)\n",
    "plt.ylim(0., 1)\n",
    "plt.legend(loc='best')\n",
    "\n",
    "plt.tight_layout()\n",
    "#plt.savefig('fd_roc_15GeV.png', dpi=200)\n",
    "plt.show()"
   ]
  },
  {
   "cell_type": "code",
   "execution_count": null,
   "metadata": {
    "colab": {
     "base_uri": "https://localhost:8080/",
     "height": 577
    },
    "colab_type": "code",
    "id": "79fwHbSs5oxX",
    "outputId": "9a67ef92-d454-46fa-97ca-c14e0181bce6"
   },
   "outputs": [],
   "source": [
    "for rn, roc in rocs_nrbkg.items():\n",
    "    x, y = roc['cdfs']['nr_bkg'], roc['cdfs']['nr']\n",
    "    plt.errorbar(x, y,\n",
    "                 xerr=np.abs(roc['cdf_intervals']['nr_bkg'] - x),\n",
    "                 yerr=np.abs(roc['cdf_intervals']['nr'] - y),\n",
    "                 linestyle='',\n",
    "                 color=roc_colors[rn],\n",
    "                 label=roc_labels[rn])\n",
    "plt.plot(*dsets['nr']['roc_from_histogram_nrbkg'], \n",
    "         label='2D Hist ($N = \\infty$)',\n",
    "         color='k', linestyle='--')\n",
    "     \n",
    "plt.xlabel(\"NR radiogenics background\")\n",
    "plt.ylabel(f\"{LowMassWIMPSource.mw} GeV/c^2 WIMP acceptance\")\n",
    "plt.xscale('log')\n",
    "plt.xlim(1e-5, 1)\n",
    "plt.ylim(0., 1)\n",
    "plt.legend(loc='best')\n",
    "\n",
    "plt.tight_layout()\n",
    "#plt.savefig('fd_roc_nr_bkg_15GeV.png', dpi=200)\n",
    "plt.show()"
   ]
  },
  {
   "cell_type": "code",
   "execution_count": null,
   "metadata": {
    "colab": {
     "base_uri": "https://localhost:8080/",
     "height": 297
    },
    "colab_type": "code",
    "id": "vyKfsg0GbZKn",
    "outputId": "b2c587af-769a-4352-d915-4278df91e050"
   },
   "outputs": [],
   "source": [
    "for rn, roc in rocs_mod.items():\n",
    "    x, y = roc['cdfs']['nr'], roc['cdfs']['nr_mod']\n",
    "    plt.errorbar(x, y,\n",
    "                 xerr=np.abs(roc['cdf_intervals']['nr'] - x),\n",
    "                 yerr=np.abs(roc['cdf_intervals']['nr_mod'] - y),\n",
    "                 linestyle='',\n",
    "                 #marker='.',\n",
    "                 color=roc_colors[rn],\n",
    "                 label=roc_labels[rn]\n",
    "                )\n",
    "plt.plot(*dsets['nr']['roc_from_histogram_mod'], \n",
    "         label='2D Hist ($N = \\infty$)',\n",
    "         color='k', linestyle='--')\n",
    "#plt.plot([0,1],[0,1], c='k', linewidth=1)\n",
    "plt.xlabel(\"non mod wimp\")\n",
    "plt.ylabel(f\"{LowMassWIMPSource.mw} GeV/c^2 WIMP acceptance\")\n",
    "plt.xscale('log')\n",
    "plt.xlim(1e-5, 1)\n",
    "plt.ylim(0., 1)\n",
    "plt.legend(loc='best')\n",
    "\n",
    "plt.tight_layout()\n",
    "#plt.savefig('fd_roc_nr_bkg_15GeV.png', dpi=200)\n",
    "plt.show()"
   ]
  },
  {
   "cell_type": "code",
   "execution_count": null,
   "metadata": {},
   "outputs": [],
   "source": [
    "# Combined ROC curve plot\n",
    "plt.figure()\n",
    "\n",
    "diag = np.geomspace(1e-5, 1, 100)\n",
    "plt.plot(diag, diag, c='k', alpha=0.5)\n",
    "\n",
    "plt.plot(*dsets['nr']['roc_from_histogram_mod'], \n",
    "         #label='2D Hist ($N = \\infty$)',\n",
    "         color='C0', linestyle='--')\n",
    "\n",
    "roc = rocs_mod[('full', 'mod')]\n",
    "x, y = roc['cdfs']['nr'], roc['cdfs']['nr_mod']\n",
    "plt.errorbar(x, y,\n",
    "             xerr=np.abs(roc['cdf_intervals']['nr'] - x),\n",
    "             yerr=np.abs(roc['cdf_intervals']['nr_mod'] - y),\n",
    "             #linestyle='',\n",
    "             #marker='.',\n",
    "             color='C0', #roc_colors[rn],\n",
    "             label='WIMP-like background',\n",
    "            )\n",
    "\n",
    "plt.plot(*dsets['nr']['roc_from_histogram_nrbkg'], \n",
    "         #label='2D Hist ($N = \\infty$)',\n",
    "         color='C1', linestyle='--')\n",
    "roc = rocs_nrbkg[('full', 'nr_mod')]\n",
    "x, y = roc['cdfs']['nr_bkg'], roc['cdfs']['nr']\n",
    "plt.errorbar(x, y,\n",
    "             xerr=np.abs(roc['cdf_intervals']['nr_bkg'] - x),\n",
    "             yerr=np.abs(roc['cdf_intervals']['nr'] - y),\n",
    "             #linestyle='',\n",
    "             color='C1',\n",
    "             label='neutron background',\n",
    "            )\n",
    "\n",
    "plt.plot(*dsets['nr']['roc_from_histogram'], \n",
    "         #label='2D Hist ($N = \\infty$)',\n",
    "         color='C2', linestyle='--')\n",
    "\n",
    "roc = rocs[('full', 'nr_mod')]\n",
    "x, y = roc['cdfs']['er'], roc['cdfs']['nr']\n",
    "plt.errorbar(x, y,\n",
    "             xerr=np.abs(roc['cdf_intervals']['er'] - x),\n",
    "             yerr=np.abs(roc['cdf_intervals']['nr'] - y),\n",
    "             #linestyle='',\n",
    "             color='C2',\n",
    "             label='ER background',\n",
    "            )\n",
    "\n",
    "plt.xlabel(\"Background acceptance\")\n",
    "plt.ylabel(f\"{LowMassWIMPSource.mw} GeV/c$^2$ WIMP acceptance\")\n",
    "plt.xscale('log')\n",
    "plt.xlim(1e-5, 1)\n",
    "plt.ylim(0., 1)\n",
    "plt.legend(loc='upper left', frameon=False)\n",
    "#plt.gca().set_aspect('equal')\n",
    "\n",
    "#plt.tight_layout()\n",
    "#plt.savefig('fd_rocs_30GeV_xlog.png', dpi=200, bbox_to_inches='tight')\n",
    "plt.show()"
   ]
  },
  {
   "cell_type": "code",
   "execution_count": null,
   "metadata": {
    "colab": {
     "base_uri": "https://localhost:8080/",
     "height": 368
    },
    "colab_type": "code",
    "id": "sWWRgMb26VAd",
    "outputId": "d5039b1d-1aef-446e-9fb8-fbe0908ad4d4"
   },
   "outputs": [],
   "source": [
    "def bg_reduction_factor(nr_acceptance, er_leakage):\n",
    "    orig_roc = dsets['nr']['roc_from_histogram']\n",
    "    leakage_hist = np.interp(nr_acceptance, orig_roc[1], orig_roc[0])\n",
    "    return leakage_hist / er_leakage\n",
    "\n",
    "for rocname, roc in rocs.items():\n",
    "    acc, leak = roc['cdfs']['nr'], roc['cdfs']['er']   \n",
    "    red = bg_reduction_factor(acc, leak)\n",
    "    red_bounds = np.stack([\n",
    "        bg_reduction_factor(acc, q)\n",
    "        for q in roc['cdf_intervals']['er']])\n",
    "\n",
    "    plt.plot(acc, \n",
    "             red, \n",
    "             label=roc_labels[rocname], \n",
    "             color=roc_colors[rocname])\n",
    "    plt.fill_between(acc,\n",
    "                     red_bounds.min(axis=0), \n",
    "                     red_bounds.max(axis=0), \n",
    "                     color=roc_colors[rocname],\n",
    "                     alpha=0.3, linewidth=0, step='mid')  \n",
    "    \n",
    "    # If you're really paranoid, you might want to plot the xerror too:\n",
    "    # plt.errorbar(acc, \n",
    "    #              red, \n",
    "    #              xerr=np.abs(roc['cdf_intervals']['nr'] - acc),\n",
    "    #              yerr=[red - red_bounds.min(axis=0),\n",
    "    #                    red_bounds.max(axis=0) - red],\n",
    "    #              label=roclabels[rocname])\n",
    "\n",
    "plt.legend(loc='best')\n",
    "plt.grid(alpha=0.2, c='k', linestyle='-')\n",
    "\n",
    "plt.xlabel(\"NR acceptance\")\n",
    "plt.ylabel(\"Background reduction factor\")\n",
    "\n",
    "plt.ylim(0, 4)\n",
    "plt.xlim(0, 1)\n",
    "\n",
    "#plt.ylim(0.8, 1.2)\n",
    "plt.tight_layout()\n",
    "#plt.savefig('fd_bg_reduction_30GeV.png', dpi=200)"
   ]
  },
  {
   "cell_type": "markdown",
   "metadata": {
    "colab_type": "text",
    "id": "c_W52iIcnonR"
   },
   "source": [
    "## Compare sensitivity\n",
    "\n",
    "Create likelihoods for:\n",
    "  1. ER vs NR histogram-based\n",
    "  2. ER vs NR flamedisx\n",
    "  3. ER vs NR-mod histogram-based -- could omit, should be same as (1)\n",
    "  4. ER vs NR-mod flamedisx\n",
    "\n",
    "Sources are represented by `ColumnSource`s, with a simulate method that draws from `dsets[dname]['data']`.\n"
   ]
  },
  {
   "cell_type": "code",
   "execution_count": null,
   "metadata": {
    "colab": {
     "base_uri": "https://localhost:8080/",
     "height": 390
    },
    "colab_type": "code",
    "id": "uOKdgmTfnqWd",
    "outputId": "182fb669-6360-4be0-ba5f-a66d43509bf2"
   },
   "outputs": [],
   "source": [
    "class FastSource(fd.ColumnSource):\n",
    "\n",
    "    def _differential_rate(self, data_tensor, ptensor):\n",
    "        return tf.clip_by_value(self._fetch(self.column, data_tensor) * self.scale_by,\n",
    "                                1e-20, 1e20)\n",
    "\n",
    "    def random_truth(self, n_events, fix_truth=None, **params):\n",
    "        if fix_truth is not None or len(params):\n",
    "            raise NotImplementedError\n",
    "        return dsets[self.dname]['data'].sample(n_events, replace=True)\n",
    "\n",
    "mu_of_source = dict(er=1, nr=1, nr_mod=1, nr_bkg=1)\n",
    "likelihood_types = ('mh', 'full')\n",
    "\n",
    "fast_sources = {\n",
    "    ltype: {\n",
    "        dname: type(\n",
    "            f'FS_{dname}_{ltype}', \n",
    "            (FastSource,), \n",
    "            dict(column=f'l_{ltype}_{dname}',\n",
    "                 dname=dname,\n",
    "                 # Adjust mu to the desired value, scaling\n",
    "                 # the differential rate accordingly\n",
    "                 mu=mu_of_source[dname],\n",
    "                 scale_by=mu_of_source[dname]/dsets[dname]['events_per_bin'].n,\n",
    "                 ))\n",
    "        for dname in dsets.keys()}\n",
    "    for ltype in likelihood_types}\n",
    "\n",
    "likelihoods = {\n",
    "    ltype: {\n",
    "        nrc: fd.LogLikelihood(\n",
    "            sources=dict(er=fast_sources[ltype]['er'],\n",
    "                         nr=fast_sources[ltype][nrc],\n",
    "                         nr_bkg=fast_sources[ltype]['nr_bkg'],\n",
    "                         ),\n",
    "            free_rates=('er', 'nr', 'nr_bkg'),\n",
    "            # max_sigma and n_trials are irrelevant for ColumnSource\n",
    "            batch_size=100_000)\n",
    "        for nrc in nr_conditions}\n",
    "    for ltype in likelihood_types}\n"
   ]
  },
  {
   "cell_type": "code",
   "execution_count": null,
   "metadata": {
    "colab": {},
    "colab_type": "code",
    "id": "tMOsgSzNCH5S"
   },
   "outputs": [],
   "source": [
    "# # Check simulated events are reasonable\n",
    "# ll = likelihoods['full']['nr']\n",
    "# for sname, color in [['er', 'b'], ['nr', 'r']]:\n",
    "#     d = ll.sources[sname].simulate(1000)\n",
    "#     plt.scatter(d['cs1'], d['cs2'], color=color, s=1)\n",
    "# likelihoods['full']['nr']\n",
    "# d = ll.simulate()\n",
    "# plt.scatter(d['cs1'], d['cs2'], s=1, c='g')\n",
    "# from collections import Counter\n",
    "# Counter(d['source'].values)"
   ]
  },
  {
   "cell_type": "markdown",
   "metadata": {
    "colab_type": "text",
    "id": "ZqKz2M1TGNF6"
   },
   "source": [
    "Time for 400 trials, 1e4 ER events /trials, minuit, default tolerance:\n",
    "  * master 23 January, colab GPU: 41 minutes\n",
    "  * trace_likelihood 25 January, Jelle's laptop: 5 minutes"
   ]
  },
  {
   "cell_type": "code",
   "execution_count": null,
   "metadata": {
    "colab": {},
    "colab_type": "code",
    "id": "0x3t9I3gGNF9"
   },
   "outputs": [],
   "source": [
    "#nrs = np.linspace(1e-9, 10, 40)\n",
    "#ers = np.linspace(9500, 10500, 40)\n",
    "#xx, yy = np.meshgrid(nrs, ers)"
   ]
  },
  {
   "cell_type": "code",
   "execution_count": null,
   "metadata": {},
   "outputs": [],
   "source": [
    "fd.inference.LOWER_RATE_MULTIPLIER_BOUND = 1e-3"
   ]
  },
  {
   "cell_type": "code",
   "execution_count": null,
   "metadata": {},
   "outputs": [],
   "source": [
    "n_trials = 10\n",
    "allow_failure = True\n",
    "rm_scale = 10.\n",
    "\n",
    "n_bestfit_failures = 0\n",
    "n_cond_bestfit_failures = 0\n",
    "n_guess_limit_failures = 0\n",
    "n_limit_failures = 0\n",
    "\n",
    "import pandas as pd\n",
    "\n",
    "sensi_results = {\n",
    "    ltype: {\n",
    "        nrc: pd.DataFrame(\n",
    "            dict(t=np.zeros(n_trials),\n",
    "                 bestfit_nr=np.zeros(n_trials),\n",
    "                 bestfit_er=np.zeros(n_trials),\n",
    "                 condfit_er=np.zeros(n_trials),\n",
    "                 limit=np.zeros(n_trials))).to_records()\n",
    "        for nrc in nr_conditions}\n",
    "    for ltype in likelihood_types}\n",
    "\n",
    "#(er=627, nr=1, nr_mod=1, nr_bkg=1.4)\n",
    "truth = dict(nr_rate_multiplier=0.,\n",
    "             er_rate_multiplier=627. * rm_scale,\n",
    "             nr_bkg_rate_multiplier=1.4 * rm_scale)\n",
    "\n",
    "import warnings\n",
    "\n",
    "for trial_i in tqdm(range(n_trials)):\n",
    "    # The nr model choice changes what events we need to pick from,\n",
    "    # so this has to be the outer loop.\n",
    "    for nrc in nr_conditions: \n",
    "\n",
    "        # Draw simulated events.\n",
    "        # The histogram and flamedisx likelihood draw from the same\n",
    "        # event reservoir (they just look at different columns later)\n",
    "        d = likelihoods['mh'][nrc].simulate(**truth)\n",
    "\n",
    "        for ltype in likelihood_types:\n",
    "            q = sensi_results[ltype][nrc]\n",
    "\n",
    "            ll = likelihoods[ltype][nrc]\n",
    "            ll.set_data(d)\n",
    "\n",
    "            guess = dict(nr_rate_multiplier=3, \n",
    "                         er_rate_multiplier=len(d))\n",
    "            \n",
    "            try:\n",
    "                bf = ll.bestfit(\n",
    "                    guess=guess,\n",
    "                    fix=dict(nr_bkg_rate_multiplier=truth['nr_bkg_rate_multiplier']),\n",
    "                    allow_failure=allow_failure,\n",
    "                )\n",
    "            except:\n",
    "                n_bestfit_failures += 1\n",
    "                print(\"bestfit failure\")\n",
    "                continue\n",
    "            q['bestfit_nr'][trial_i] = bf['nr_rate_multiplier']\n",
    "            q['bestfit_er'][trial_i] = bf['er_rate_multiplier']\n",
    "            \n",
    "            # lls = [-2*ll(nr_rate_multiplier=x, er_rate_multiplier=y)\n",
    "            #        for (x, y) in np.array([xx.ravel(), yy.ravel()]).T]\n",
    "            # ll_min = min(lls)\n",
    "            # lls = np.reshape(lls, (40, 40))\n",
    "            # \n",
    "            # grid_min = np.unravel_index(np.argmin(lls), lls.shape)\n",
    "            # \n",
    "            # plt.figure(figsize=(10, 8))\n",
    "            # plt.pcolormesh(xx, yy, (lls - ll_min), vmin=0, vmax=16)\n",
    "            # plt.colorbar()\n",
    "            # plt.plot([3, 0], [10000, 10000], 'o', color='orange')\n",
    "            # plt.plot(nrs[grid_min[1]], ers[grid_min[0]], 'go')\n",
    "            # plt.plot(bf['nr_rate_multiplier'], bf['er_rate_multiplier'], 'ro')\n",
    "            # plt.title(f'{ltype} {nrc}')\n",
    "            # plt.show()\n",
    "            # \n",
    "            # continue\n",
    "\n",
    "            # Compute best fit nuisance params conditional on truth \n",
    "            # and test statistic value (which depends on this)\n",
    "            try:\n",
    "                with warnings.catch_warnings():\n",
    "                    warnings.simplefilter(\"ignore\")\n",
    "                    cf = ll.bestfit(\n",
    "                        guess=dict(er_rate_multiplier=bf['er_rate_multiplier']),\n",
    "                        fix=dict(nr_rate_multiplier=truth['nr_rate_multiplier'],\n",
    "                                 nr_bkg_rate_multiplier=truth['nr_bkg_rate_multiplier']),\n",
    "                        allow_failure=allow_failure)\n",
    "            except:\n",
    "                n_cond_bestfit_failures += 1\n",
    "                print(\"conditional bestfit failure\")\n",
    "            q['condfit_er'][trial_i] = cf['er_rate_multiplier']\n",
    "            q['t'][trial_i] = 2 * (\n",
    "                ll(**bf) - ll(er_rate_multiplier=cf['er_rate_multiplier'],\n",
    "                              nr_rate_multiplier=truth['nr_rate_multiplier'],\n",
    "                              nr_bkg_rate_multiplier=truth['nr_bkg_rate_multiplier']))\n",
    "\n",
    "            try:\n",
    "                guess_limit = ll.limit(\n",
    "                    'nr_rate_multiplier', \n",
    "                    bestfit=bf,\n",
    "                    fix={k: v for k, v in bf.items()\n",
    "                         if k != 'nr_rate_multiplier'},\n",
    "                    allow_failure=allow_failure)\n",
    "            except:\n",
    "                n_guess_limit_failures += 1\n",
    "                print(\"guess limit failure\")\n",
    "                continue\n",
    "\n",
    "            try:\n",
    "                q['limit'][trial_i] = ll.limit(\n",
    "                    'nr_rate_multiplier', \n",
    "                    bestfit=bf,\n",
    "                    guess={**bf, **dict(nr_rate_multiplier=guess_limit)},\n",
    "                    fix=dict(nr_bkg_rate_multiplier=truth['nr_bkg_rate_multiplier']),\n",
    "                    allow_failure=False)\n",
    "            except:\n",
    "                n_limit_failures += 1\n",
    "                print(\"limit failure\")\n",
    "\n",
    "print(\"n bestfit failures\", n_bestfit_failures)\n",
    "print(\"n conditional bestfit failures\", n_cond_bestfit_failures)\n",
    "print(\"n guess limit failures: \", n_guess_limit_failures)\n",
    "print(\"n limit failures: \", n_limit_failures)"
   ]
  },
  {
   "cell_type": "code",
   "execution_count": null,
   "metadata": {},
   "outputs": [],
   "source": [
    "from collections import Counter\n",
    "Counter(d['source'].values)"
   ]
  },
  {
   "cell_type": "code",
   "execution_count": null,
   "metadata": {
    "colab": {},
    "colab_type": "code",
    "id": "3eeNLjBPGNGW",
    "outputId": "1be69a6e-efce-4783-f182-eec77cb65fa5"
   },
   "outputs": [],
   "source": [
    "f, axes = plt.subplots(3, 1, figsize=(7, 10))\n",
    "\n",
    "def hist_plot(data, bins, color, label):\n",
    "    data = data[np.isfinite(data)]\n",
    "    mean = np.mean(data)\n",
    "    # Error calculation is very dodgy, since dist\n",
    "    # is far from Gaussian.\n",
    "    err = np.std(data)/len(data)**0.5\n",
    "\n",
    "    Hist1d(data, bins=bins).plot(\n",
    "        color=color, \n",
    "        set_xlim=True,\n",
    "        errors=True,\n",
    "        error_style='band',\n",
    "        label=f'{label}: {mean:.2f} +- {err:.2f}')\n",
    "    plt.axvline(mean,\n",
    "                color=color,\n",
    "                linestyle='--')\n",
    "    plt.legend(loc='best')\n",
    "\n",
    "\n",
    "n_bins = 50\n",
    "\n",
    "for ltype in likelihood_types:\n",
    "    for nrc in nr_conditions: \n",
    "        if (ltype, nrc) not in rocs:\n",
    "            continue\n",
    "        color = roc_colors[(ltype, nrc)]\n",
    "        label = roc_labels[(ltype, nrc)]\n",
    "        q = sensi_results[ltype][nrc]\n",
    "\n",
    "        plt.sca(axes[0])\n",
    "        bins = np.linspace(0, 10, n_bins)\n",
    "        hist_plot(q['bestfit_nr'],\n",
    "                  bins=bins,\n",
    "                  label=label, color=color)\n",
    "        plt.xlabel(\"Best fit [DM events]\")\n",
    "        # twin_nevents(bins)\n",
    "        plt.yscale('log')\n",
    "        plt.ylim(0.7, n_trials)\n",
    "        \n",
    "\n",
    "        plt.sca(axes[1])\n",
    "        hist_plot(q['t'],\n",
    "                  bins=np.linspace(-0.2, 5, n_bins),\n",
    "                  label=label, color=color)\n",
    "        plt.xlabel(\"T value\")\n",
    "        plt.yscale('log')\n",
    "        plt.ylim(0.7, n_trials)\n",
    "\n",
    "        plt.sca(axes[2])\n",
    "        bins = np.geomspace(0.5, 100, n_bins)\n",
    "        hist_plot(q['limit'], \n",
    "                  bins=bins,\n",
    "                  label=label, color=color)\n",
    "        plt.xlabel(\"Limit [DM events]\")\n",
    "        plt.xscale('log')\n",
    "        plt.ylim(0, max(10, n_trials / 10))\n",
    "        #twin_nevents(bins, log=True, ticks=[1, 2, 5, 10, 20])\n",
    "\n",
    "for ax in axes:\n",
    "    ax.set_ylabel(\"Trials / bin\")\n",
    "\n",
    "plt.tight_layout()\n",
    "plt.subplots_adjust(hspace=0.6)\n",
    "#plt.savefig('sensitivity_results_sr1exp_20200210.png', \n",
    "#            dpi=200,\n",
    "#            bbox_inches='tight')"
   ]
  },
  {
   "cell_type": "code",
   "execution_count": null,
   "metadata": {
    "colab": {},
    "colab_type": "code",
    "id": "NOJsof0SGNGk",
    "outputId": "a1eb5590-915b-43bd-9111-c695d9401dce"
   },
   "outputs": [],
   "source": [
    "qmu = [sensi_results[ltype]['nr_mod']['limit'].mean() for ltype in ['full', 'mh']]\n",
    "print(qmu)\n",
    "qmu[1]/qmu[0]"
   ]
  },
  {
   "cell_type": "code",
   "execution_count": null,
   "metadata": {},
   "outputs": [],
   "source": []
  },
  {
   "cell_type": "code",
   "execution_count": null,
   "metadata": {},
   "outputs": [],
   "source": [
    "# OLD"
   ]
  },
  {
   "cell_type": "markdown",
   "metadata": {},
   "source": [
    "# OLD stuff"
   ]
  },
  {
   "cell_type": "markdown",
   "metadata": {
    "colab_type": "raw",
    "id": "0NqfZK0yGNGv"
   },
   "source": [
    "hist = ll.limit(\n",
    "    'nr_rate_multiplier', \n",
    "    bestfit=bf,\n",
    "    guess=dict(er_rate_multiplier=bf['er_rate_multiplier'],\n",
    "               nr_rate_multiplier=guess_limit),\n",
    "    optimizer_kwargs=dict(options=dict(maxiter=1000, maxls=100),\n",
    "                          method='tnc'),\n",
    "    allow_failure=False, get_history=True)"
   ]
  },
  {
   "cell_type": "code",
   "execution_count": null,
   "metadata": {
    "colab": {},
    "colab_type": "code",
    "id": "z-t9ZW7kGNGx",
    "outputId": "58b75638-40b9-4d7b-8734-c0da67fbf115"
   },
   "outputs": [],
   "source": [
    "hist.tail(30)"
   ]
  },
  {
   "cell_type": "code",
   "execution_count": null,
   "metadata": {
    "colab": {},
    "colab_type": "code",
    "id": "xSH18r-uGNG2",
    "outputId": "e0b48882-6ef6-4150-96aa-89837ca58d56"
   },
   "outputs": [],
   "source": [
    "plt.plot(hist['nr_rate_multiplier'], linewidth=0.5, c='r')\n",
    "plt.twinx()\n",
    "plt.plot(hist['er_rate_multiplier'], linewidth=0.5)\n",
    "plt.xlim(0, 1000)"
   ]
  },
  {
   "cell_type": "code",
   "execution_count": null,
   "metadata": {
    "colab": {},
    "colab_type": "code",
    "id": "vezdHxGZGNG_",
    "outputId": "813aff0e-2484-4eba-d565-0d02a676d82a"
   },
   "outputs": [],
   "source": [
    "\n",
    "ll.limit('nr_rate_multiplier', tol_multiplier=1e-3, \n",
    "         fix=dict(er_rate_multiplier=bf['er_rate_multiplier']))"
   ]
  },
  {
   "cell_type": "code",
   "execution_count": null,
   "metadata": {
    "colab": {},
    "colab_type": "code",
    "id": "7pQS_unNGNHH"
   },
   "outputs": [],
   "source": [
    "1e-2 * kwargs['options']['accuracy']**0.5"
   ]
  },
  {
   "cell_type": "code",
   "execution_count": null,
   "metadata": {
    "colab": {},
    "colab_type": "code",
    "id": "BpwTxmMcGNHL"
   },
   "outputs": [],
   "source": [
    "ll = likelihoods['mh']['nr']\n",
    "d = ll.simulate(nr_rate_multiplier=0, er_rate_multiplier=10000)\n",
    "ll.set_data(d)"
   ]
  },
  {
   "cell_type": "code",
   "execution_count": null,
   "metadata": {
    "colab": {},
    "colab_type": "code",
    "id": "wKzIqlBCGNHP",
    "outputId": "d7b1cb47-c5df-4f6d-bc0f-74263dcf6529"
   },
   "outputs": [],
   "source": [
    "fit_options = dict(\n",
    "    guess=dict(er_rate_multiplier=len(d), nr_rate_multiplier=3),\n",
    "    llr_tolerance=0,\n",
    "    optimizer_kwargs=dict(method='tnc')\n",
    ")\n",
    "bf = ll.bestfit()\n",
    "bf"
   ]
  },
  {
   "cell_type": "code",
   "execution_count": null,
   "metadata": {
    "colab": {},
    "colab_type": "code",
    "id": "GXVxczMgGNHV",
    "outputId": "12e8c11f-85ab-4ae0-b977-913d6323f9b7"
   },
   "outputs": [],
   "source": [
    "ll.bestfit(\n",
    "    get_history=True,\n",
    "    **fit_options)"
   ]
  },
  {
   "cell_type": "code",
   "execution_count": null,
   "metadata": {
    "colab": {},
    "colab_type": "code",
    "id": "EZnazhPtGNHa"
   },
   "outputs": [],
   "source": [
    "ers = np.linspace(9500, 10500, 100)\n",
    "nrs = np.linspace(0, 10, 100)\n",
    "xx, yy = np.meshgrid(ers, nrs)\n",
    "z = np.zeros_like(xx).ravel()\n",
    "for i, (x, y) in enumerate(zip(xx.ravel(), yy.ravel())):\n",
    "    z[i] = ll(er_rate_multiplier=x,\n",
    "              nr_rate_multiplier=y)\n",
    "best_i = np.argmax(z)\n",
    "real_best_fit = [xx.ravel()[best_i], yy.ravel()[best_i]]"
   ]
  },
  {
   "cell_type": "code",
   "execution_count": null,
   "metadata": {
    "colab": {},
    "colab_type": "code",
    "id": "D1PbP1kEGNHd",
    "outputId": "f693bcd0-8a90-4f94-b00b-0249f7615a78"
   },
   "outputs": [],
   "source": [
    "real_best_fit, bf"
   ]
  },
  {
   "cell_type": "code",
   "execution_count": null,
   "metadata": {
    "colab": {},
    "colab_type": "code",
    "id": "R7Aqwcc6GNHk",
    "outputId": "872bcade-9d15-48df-f411-805a6215ba6f"
   },
   "outputs": [],
   "source": [
    "m2llr = -2 * (z.reshape(xx.shape) - z[best_i])\n",
    "#plt.pcolormesh(xx, yy, m2llr)\n",
    "#plt.colorbar()\n",
    "plt.contour(xx, yy, m2llr**0.5, \n",
    "            levels=[1, 2, 3])\n",
    "plt.scatter([real_best_fit[0]],\n",
    "            [real_best_fit[1]], c='orange')"
   ]
  },
  {
   "cell_type": "code",
   "execution_count": null,
   "metadata": {
    "colab": {},
    "colab_type": "code",
    "id": "Afz2dXHiGNHs",
    "outputId": "036f6258-d5f8-4c08-9ddd-ed9d3c99266a"
   },
   "outputs": [],
   "source": [
    "hist = ll.limit('nr_rate_multiplier', \n",
    "          guess=dict(er_rate_multiplier=bf['er_rate_multiplier'],\n",
    "                     nr_rate_multiplier=10.\n",
    "                    ),\n",
    "         bestfit=bf, \n",
    "         tol_multiplier=0, \n",
    "         optimizer_kwargs=dict(options=dict(maxiter=1000, \n",
    "                                            maxls=100\n",
    "                                           ),\n",
    "                               method='L-BFGS-B'),\n",
    "         #llr_tolerance=0.0001,\n",
    "         #get_history=True\n",
    "        )\n",
    "hist"
   ]
  },
  {
   "cell_type": "code",
   "execution_count": null,
   "metadata": {
    "colab": {},
    "colab_type": "code",
    "id": "3h7Cg__KGNH1",
    "outputId": "521debda-0194-42f9-84a0-5e64d48f105f"
   },
   "outputs": [],
   "source": []
  },
  {
   "cell_type": "code",
   "execution_count": null,
   "metadata": {
    "colab": {},
    "colab_type": "code",
    "id": "Zpo1jKtxGNH-",
    "outputId": "f7025b02-886f-468f-ae46-f320d534df9c"
   },
   "outputs": [],
   "source": [
    "bf = ll.bestfit(guess=dict(er_rate_multiplier=1.2e4),\n",
    "                llr_tolerance=0,\n",
    "                optimizer_kwargs=dict(#options=dict(maxcor=100), \n",
    "                                      method='tnc'))\n",
    "bf"
   ]
  },
  {
   "cell_type": "code",
   "execution_count": null,
   "metadata": {
    "colab": {},
    "colab_type": "code",
    "id": "lK5VL5HgGNIL",
    "outputId": "88fbd776-fae4-4ed2-dffa-5eed101ea2ae"
   },
   "outputs": [],
   "source": [
    "ll.bestfit(guess=bf)"
   ]
  },
  {
   "cell_type": "code",
   "execution_count": null,
   "metadata": {
    "colab": {},
    "colab_type": "code",
    "id": "Rf1barNpGNIQ",
    "outputId": "29008a1e-0ab8-462c-d2dd-d227783ee95a"
   },
   "outputs": [],
   "source": [
    "\n",
    "ll = likelihoods['full']['nr_mod']\n",
    "\n",
    "ys = np.zeros_like(x)\n",
    "grads = np.zeros((len(x), 2))\n",
    "for i, _x in enumerate(x):\n",
    "    result = ll.log_likelihood(\n",
    "        er_rate_multiplier=len(d),\n",
    "        nr_rate_multiplier=_x)\n",
    "    ys[i] = result[0]\n",
    "    grads[i] = result[1]\n",
    "    \n",
    "plt.plot(x, ys)\n",
    "plt.twinx()\n",
    "plt.plot(x, grads[:, 0], c='g')\n",
    "plt.plot(x, grads[:, 1], c='r')\n",
    "plt.axhline(0, c='k')"
   ]
  },
  {
   "cell_type": "markdown",
   "metadata": {
    "colab_type": "text",
    "id": "ZXqSB9PNdHUc"
   },
   "source": [
    "  * Increase exposure -> expect modulation recovery, more flamedisx improvements\n",
    "  * Decrease elife -> similar\n",
    "  * Optimizer tolerance for bestfit ~0 fraction problem (otherwise try minuit, etc)\n",
    "  * Investigate weird fraction in fd vs hist likelihood: numerical error?"
   ]
  },
  {
   "cell_type": "code",
   "execution_count": null,
   "metadata": {
    "colab": {},
    "colab_type": "code",
    "id": "8TmSzK7KW0Zw"
   },
   "outputs": [],
   "source": [
    "# Do not forget to download!!\n",
    "with open('sensi_results_20200128_10k.pkl', mode='wb') as f:\n",
    "    pickle.dump(sensi_results, f)"
   ]
  },
  {
   "cell_type": "code",
   "execution_count": null,
   "metadata": {
    "colab": {},
    "colab_type": "code",
    "id": "MV48gPWrGNIa"
   },
   "outputs": [],
   "source": []
  }
 ],
 "metadata": {
  "accelerator": "GPU",
  "colab": {
   "collapsed_sections": [],
   "machine_shape": "hm",
   "name": "ernr_disc_sens.ipynb",
   "provenance": []
  },
  "kernelspec": {
   "display_name": "Python 3",
   "language": "python",
   "name": "python3"
  },
  "language_info": {
   "codemirror_mode": {
    "name": "ipython",
    "version": 3
   },
   "file_extension": ".py",
   "mimetype": "text/x-python",
   "name": "python",
   "nbconvert_exporter": "python",
   "pygments_lexer": "ipython3",
   "version": "3.6.9"
  }
 },
 "nbformat": 4,
 "nbformat_minor": 1
}
